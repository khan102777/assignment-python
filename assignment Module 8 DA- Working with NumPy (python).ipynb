{
 "cells": [
  {
   "cell_type": "markdown",
   "id": "d43cee7d-2fe9-4c5b-8e7d-f9526252602b",
   "metadata": {},
   "source": [
    "### 1. How to Creating a 3x3 Identity Matrix with Float Data Type? \n"
   ]
  },
  {
   "cell_type": "code",
   "execution_count": 2,
   "id": "f602a48a-c9b2-4a46-b589-6c0ad23fdd80",
   "metadata": {},
   "outputs": [
    {
     "name": "stdout",
     "output_type": "stream",
     "text": [
      "[[1. 0. 0.]\n",
      " [0. 1. 0.]\n",
      " [0. 0. 1.]]\n"
     ]
    }
   ],
   "source": [
    "import numpy as np\n",
    "matrix = np.identity(3, dtype=float)\n",
    "print(matrix)"
   ]
  },
  {
   "cell_type": "markdown",
   "id": "d493ce0c-36b7-4e76-9a47-c30d955ce933",
   "metadata": {},
   "source": [
    "### 2. Create a 1D Array with Random Values between 0 and 1. \n"
   ]
  },
  {
   "cell_type": "code",
   "execution_count": 27,
   "id": "b036bb69-193b-4828-b635-e4a6607ad70c",
   "metadata": {},
   "outputs": [
    {
     "data": {
      "text/plain": [
       "array([0.34872763, 0.17149121, 0.7218703 , 0.58779042])"
      ]
     },
     "execution_count": 27,
     "metadata": {},
     "output_type": "execute_result"
    }
   ],
   "source": [
    "array1 = np.random.rand(4)\n",
    "array1"
   ]
  },
  {
   "cell_type": "markdown",
   "id": "25f13b33-0881-4c71-921a-10f8eaa72afd",
   "metadata": {},
   "source": [
    "### 3. Create a 2D Array with Random Integer Values. "
   ]
  },
  {
   "cell_type": "code",
   "execution_count": 30,
   "id": "dbf2f370-3910-49b7-9ea6-64c0998511dc",
   "metadata": {},
   "outputs": [
    {
     "data": {
      "text/plain": [
       "array([[ 1,  9,  5, 11],\n",
       "       [16,  1, 10,  1],\n",
       "       [ 2,  4,  6,  6]])"
      ]
     },
     "execution_count": 30,
     "metadata": {},
     "output_type": "execute_result"
    }
   ],
   "source": [
    "array2 = np.random.randint(0, 20, (3, 4))\n",
    "array2"
   ]
  },
  {
   "cell_type": "markdown",
   "id": "4822a247-89ff-46bb-9904-68a4fb230e94",
   "metadata": {},
   "source": [
    "### 4. Creating an Array Using a Custom Function."
   ]
  },
  {
   "cell_type": "code",
   "execution_count": 15,
   "id": "0df116ef-07f2-44dd-8fb5-ac33126dce06",
   "metadata": {},
   "outputs": [
    {
     "data": {
      "text/plain": [
       "array([[20, 32, 31, 36],\n",
       "       [22, 38, 26, 32],\n",
       "       [25, 32, 34, 38],\n",
       "       [36, 39, 20, 32]])"
      ]
     },
     "execution_count": 15,
     "metadata": {},
     "output_type": "execute_result"
    }
   ],
   "source": [
    "def cf(i, j):\n",
    "    return np.random.randint(i, j,(4, 4))\n",
    "\n",
    "cf(20, 40)"
   ]
  },
  {
   "cell_type": "markdown",
   "id": "2dd55dfd-e99f-4320-af63-8402832310bd",
   "metadata": {},
   "source": [
    "### 5. Reshaping a 1D Array into a 2D Array "
   ]
  },
  {
   "cell_type": "code",
   "execution_count": 2,
   "id": "e2f94b34-82cd-4aec-9d7f-f78a74e412c9",
   "metadata": {},
   "outputs": [
    {
     "data": {
      "text/plain": [
       "array([[1, 2, 3, 4],\n",
       "       [5, 6, 7, 8]])"
      ]
     },
     "execution_count": 2,
     "metadata": {},
     "output_type": "execute_result"
    }
   ],
   "source": [
    "a = np.array([1,2,3,4,5,6,7,8])\n",
    "b =a.reshape(2, 4)\n",
    "b"
   ]
  },
  {
   "cell_type": "markdown",
   "id": "7ac0fcbb-59a6-4649-add2-398c4bc47082",
   "metadata": {},
   "source": [
    "### 6.How to Creating a 3x3 Array of Ones?"
   ]
  },
  {
   "cell_type": "code",
   "execution_count": 22,
   "id": "d21049de-2c08-4dc0-b01f-c7c9af0bdac1",
   "metadata": {},
   "outputs": [
    {
     "data": {
      "text/plain": [
       "array([[1., 1., 1.],\n",
       "       [1., 1., 1.],\n",
       "       [1., 1., 1.]])"
      ]
     },
     "execution_count": 22,
     "metadata": {},
     "output_type": "execute_result"
    }
   ],
   "source": [
    "aones = np.ones((3, 3))\n",
    "aones"
   ]
  },
  {
   "cell_type": "markdown",
   "id": "3b1c732c-6bd3-4cf1-82d9-08ef968d925f",
   "metadata": {},
   "source": [
    "### 7. How to get the common items between two pythons NumPy? "
   ]
  },
  {
   "cell_type": "code",
   "execution_count": 27,
   "id": "28405be6-a914-4b0f-aa13-2c24f3768b1d",
   "metadata": {},
   "outputs": [
    {
     "data": {
      "text/plain": [
       "array([2, 4])"
      ]
     },
     "execution_count": 27,
     "metadata": {},
     "output_type": "execute_result"
    }
   ],
   "source": [
    "a = np. array ([1,2,3,2,3,4,3,4,5,6]) \n",
    "b = np. array ([7,2,10,2,7,4,9,4,9,8]) \n",
    "c = np.intersect1d(a, b)\n",
    "c"
   ]
  },
  {
   "cell_type": "markdown",
   "id": "3997275d-a562-4aba-9f2a-1ffdcaaeaa4f",
   "metadata": {},
   "source": [
    "### 8. From array a remove all items present in array b "
   ]
  },
  {
   "cell_type": "code",
   "execution_count": 32,
   "id": "d87daae9-f6e8-48f9-846d-ba032328a37e",
   "metadata": {},
   "outputs": [
    {
     "data": {
      "text/plain": [
       "array([1, 2, 3, 4])"
      ]
     },
     "execution_count": 32,
     "metadata": {},
     "output_type": "execute_result"
    }
   ],
   "source": [
    "a = np. array ([1,2,3,4,5])\n",
    "b = np. array ([5,6,7,8,9]) \n",
    "\n",
    "c = np.setdiff1d(a, b)\n",
    "c"
   ]
  },
  {
   "cell_type": "markdown",
   "id": "08f97560-cd2f-4a84-b270-925bd7abe089",
   "metadata": {},
   "source": [
    "### 9. Limit the number of items printed in python NumPy array a to a maximum of 6 elements. "
   ]
  },
  {
   "cell_type": "code",
   "execution_count": 36,
   "id": "9a0115d4-b384-4805-8a00-539b5f0a7c1d",
   "metadata": {},
   "outputs": [
    {
     "data": {
      "text/plain": [
       "array([ 0,  1,  2, ..., 12, 13, 14])"
      ]
     },
     "execution_count": 36,
     "metadata": {},
     "output_type": "execute_result"
    }
   ],
   "source": [
    "a = np.arange(15) \n",
    "np.set_printoptions()\n",
    "a"
   ]
  },
  {
   "cell_type": "markdown",
   "id": "ca4f477b-9c87-4ab9-8493-8d0145315edc",
   "metadata": {},
   "source": [
    "### 10. Drop all nan values from a 1D NumPy \n"
   ]
  },
  {
   "cell_type": "code",
   "execution_count": 42,
   "id": "7af7b36c-4743-4a2f-bbfc-e0ef62307d1b",
   "metadata": {},
   "outputs": [
    {
     "data": {
      "text/plain": [
       "array([1., 2., 3., 5., 6., 7.])"
      ]
     },
     "execution_count": 42,
     "metadata": {},
     "output_type": "execute_result"
    }
   ],
   "source": [
    "a = np. array ([1,2,3, np.nan,5,6,7, np.nan]) \n",
    "b = a[~np.isnan(a)]\n",
    "b"
   ]
  },
  {
   "cell_type": "markdown",
   "id": "2e1af380-274f-417f-bd1f-7f5730d3a534",
   "metadata": {},
   "source": [
    "### 11. Question: Create a 1D NumPy array of the first 20 natural numbers and a 2D NumPy array of shape (4, 5) with values ranging from 1 to 20"
   ]
  },
  {
   "cell_type": "code",
   "execution_count": 51,
   "id": "c815cef4-7a2b-473b-99f0-18eaa40a0b07",
   "metadata": {},
   "outputs": [
    {
     "name": "stdout",
     "output_type": "stream",
     "text": [
      "[ 1  2  3 ... 18 19 20]\n"
     ]
    },
    {
     "data": {
      "text/plain": [
       "array([[ 1,  2,  3,  4,  5],\n",
       "       [ 6,  7,  8,  9, 10],\n",
       "       [11, 12, 13, 14, 15],\n",
       "       [16, 17, 18, 19, 20]])"
      ]
     },
     "execution_count": 51,
     "metadata": {},
     "output_type": "execute_result"
    }
   ],
   "source": [
    "a = np.arange(1, 21)\n",
    "print(a)\n",
    "b = a.reshape(4, 5)\n",
    "b"
   ]
  },
  {
   "cell_type": "markdown",
   "id": "8efd44bd-9386-4e36-8599-7adab9f11548",
   "metadata": {},
   "source": [
    "### 12. Question: Given a 3D NumPy array of shape (2, 3, 4), find its shape, size, number of dimensions, and data type. Change its data type to float64 and verify the change. "
   ]
  },
  {
   "cell_type": "code",
   "execution_count": 3,
   "id": "33d53779-49db-4d8b-9818-1c14db4215a1",
   "metadata": {},
   "outputs": [
    {
     "name": "stdout",
     "output_type": "stream",
     "text": [
      "Original Array:\n",
      "Shape: (2, 3, 4)\n",
      "Size: 24\n",
      "Number of dimensions: 3\n",
      "Data type: int32\n",
      "\n",
      "Array after changing data type to float64:\n",
      "Shape: (2, 3, 4)\n",
      "Size: 24\n",
      "Number of dimensions: 3\n",
      "Data type: float64\n",
      "Array contents:\n",
      "[[[ 0.  1.  2.  3.]\n",
      "  [ 4.  5.  6.  7.]\n",
      "  [ 8.  9. 10. 11.]]\n",
      "\n",
      " [[12. 13. 14. 15.]\n",
      "  [16. 17. 18. 19.]\n",
      "  [20. 21. 22. 23.]]]\n"
     ]
    }
   ],
   "source": [
    "array_3d = np.arange(24).reshape(2, 3, 4)\n",
    "\n",
    "shape = array_3d.shape\n",
    "size = array_3d.size\n",
    "ndim = array_3d.ndim\n",
    "dtype = array_3d.dtype\n",
    "\n",
    "print(\"Original Array:\")\n",
    "print(\"Shape:\", shape)\n",
    "print(\"Size:\", size)\n",
    "print(\"Number of dimensions:\", ndim)\n",
    "print(\"Data type:\", dtype)\n",
    "\n",
    "array_3d_float = array_3d.astype(np.float64)\n",
    "print(\"\\nArray after changing data type to float64:\")\n",
    "print(\"Shape:\", array_3d_float.shape)\n",
    "print(\"Size:\", array_3d_float.size)\n",
    "print(\"Number of dimensions:\", array_3d_float.ndim)\n",
    "print(\"Data type:\", array_3d_float.dtype)\n",
    "print(\"Array contents:\")\n",
    "print(array_3d_float)"
   ]
  },
  {
   "cell_type": "markdown",
   "id": "66bf44b4-246b-4ce8-ba2e-a037b44f3a36",
   "metadata": {},
   "source": [
    "### 13. Question: Reshape a 1D array of 12 elements into a 3x4 2D array and then flatten it back into a 1D array using ravel (). Verify that the flattened array matches the original. \n"
   ]
  },
  {
   "cell_type": "code",
   "execution_count": 4,
   "id": "a7f3b8b5-2841-4f5f-b120-4815fbbdf398",
   "metadata": {},
   "outputs": [
    {
     "name": "stdout",
     "output_type": "stream",
     "text": [
      "Original 1D Array:\n",
      "[ 0  1  2  3  4  5  6  7  8  9 10 11]\n",
      "\n",
      "Reshaped 3x4 2D Array:\n",
      "[[ 0  1  2  3]\n",
      " [ 4  5  6  7]\n",
      " [ 8  9 10 11]]\n",
      "\n",
      "Flattened 1D Array after ravel():\n",
      "[ 0  1  2  3  4  5  6  7  8  9 10 11]\n"
     ]
    }
   ],
   "source": [
    "original_array = np.arange(12)\n",
    "reshaped_array = original_array.reshape(3, 4)\n",
    "flattened_array = reshaped_array.ravel()\n",
    "\n",
    "print(\"Original 1D Array:\")\n",
    "print(original_array)\n",
    "\n",
    "print(\"\\nReshaped 3x4 2D Array:\")\n",
    "print(reshaped_array)\n",
    "\n",
    "print(\"\\nFlattened 1D Array after ravel():\")\n",
    "print(flattened_array)"
   ]
  },
  {
   "cell_type": "markdown",
   "id": "361ea987-064c-47b6-9297-f5ff3df9bcdf",
   "metadata": {},
   "source": [
    "### 14. Question: Given two arrays, a = np. array ([1, 2, 3]) and b = np. array ([4, 5, 6]), perform element-wise addition, subtraction, multiplication, and division. Explain the behavior when dividing by zero. "
   ]
  },
  {
   "cell_type": "code",
   "execution_count": 5,
   "id": "cc596f19-2faf-4646-97f1-fba56af13390",
   "metadata": {},
   "outputs": [
    {
     "name": "stdout",
     "output_type": "stream",
     "text": [
      "Addition:\n",
      "[5 7 9]\n",
      "\n",
      "Subtraction:\n",
      "[-3 -3 -3]\n",
      "\n",
      "Multiplication:\n",
      "[ 4 10 18]\n",
      "\n",
      "Division:\n",
      "[0.25 0.4  0.5 ]\n",
      "\n",
      "Division with Zero in Numerator:\n",
      "[0.25 0.4  0.  ]\n"
     ]
    }
   ],
   "source": [
    "a = np.array([1, 2, 3])\n",
    "b = np.array([4, 5, 6])\n",
    "addition = a + b\n",
    "subtraction = a - b\n",
    "multiplication = a * b\n",
    "division = a / b\n",
    "\n",
    "print(\"Addition:\")\n",
    "print(addition)\n",
    "\n",
    "print(\"\\nSubtraction:\")\n",
    "print(subtraction)\n",
    "\n",
    "print(\"\\nMultiplication:\")\n",
    "print(multiplication)\n",
    "\n",
    "print(\"\\nDivision:\")\n",
    "print(division)\n",
    "\n",
    "c = np.array([1, 2, 0])\n",
    "d = np.array([4, 5, 6])\n",
    "division_with_zero = c / d\n",
    "\n",
    "print(\"\\nDivision with Zero in Numerator:\")\n",
    "print(division_with_zero)\n"
   ]
  },
  {
   "cell_type": "markdown",
   "id": "802226e3-1624-428d-9836-1c913e1a09ea",
   "metadata": {},
   "source": [
    "### 15. Question: Create a 2D array of shape (3, 1) and a 1D array of length 3. Perform element-wise addition using broadcasting. Explain how broadcasting rules apply in this scenario. "
   ]
  },
  {
   "cell_type": "code",
   "execution_count": 6,
   "id": "f23bf47f-621b-4478-a6ed-5a13e16e0a7a",
   "metadata": {},
   "outputs": [
    {
     "name": "stdout",
     "output_type": "stream",
     "text": [
      "2D Array (shape (3, 1)):\n",
      "[[1]\n",
      " [2]\n",
      " [3]]\n",
      "\n",
      "1D Array (length 3):\n",
      "[10 20 30]\n",
      "\n",
      "Result of addition:\n",
      "[[11 21 31]\n",
      " [12 22 32]\n",
      " [13 23 33]]\n"
     ]
    }
   ],
   "source": [
    "array_2d = np.array([[1], [2], [3]])\n",
    "array_1d = np.array([10, 20, 30])\n",
    "result = array_2d + array_1d\n",
    "\n",
    "print(\"2D Array (shape (3, 1)):\")\n",
    "print(array_2d)\n",
    "\n",
    "print(\"\\n1D Array (length 3):\")\n",
    "print(array_1d)\n",
    "\n",
    "print(\"\\nResult of addition:\")\n",
    "print(result)"
   ]
  },
  {
   "cell_type": "markdown",
   "id": "933d2f28-cc18-45ce-a03b-05015a92fcfa",
   "metadata": {},
   "source": [
    "### 16. Question: Generate a random 2D array of integers between 0 and 10. Use conditional operators to create a Boolean mask identifying elements greater than 5. Replace all elements greater than 5 with the value 5. \n",
    "\n"
   ]
  },
  {
   "cell_type": "code",
   "execution_count": 7,
   "id": "dfb2d5de-ac44-44ba-aab9-2ac259dba93c",
   "metadata": {},
   "outputs": [
    {
     "name": "stdout",
     "output_type": "stream",
     "text": [
      "Original 2D Array:\n",
      "[[ 7  0  1  4 10]\n",
      " [ 8  0  2  3  5]\n",
      " [ 8  2  3  1  2]\n",
      " [ 8  4  9  5  4]]\n",
      "\n",
      "Boolean Mask (elements > 5):\n",
      "[[ True False False False  True]\n",
      " [ True False False False False]\n",
      " [ True False False False False]\n",
      " [ True False  True False False]]\n",
      "\n",
      "Modified 2D Array (elements > 5 replaced with 5):\n",
      "[[5 0 1 4 5]\n",
      " [5 0 2 3 5]\n",
      " [5 2 3 1 2]\n",
      " [5 4 5 5 4]]\n"
     ]
    }
   ],
   "source": [
    "array_2d = np.random.randint(0, 11, size=(4, 5))\n",
    "\n",
    "print(\"Original 2D Array:\")\n",
    "print(array_2d)\n",
    "\n",
    "mask = array_2d > 5\n",
    "\n",
    "print(\"\\nBoolean Mask (elements > 5):\")\n",
    "print(mask)\n",
    "\n",
    "array_2d[mask] = 5\n",
    "\n",
    "print(\"\\nModified 2D Array (elements > 5 replaced with 5):\")\n",
    "print(array_2d)"
   ]
  },
  {
   "cell_type": "markdown",
   "id": "7dbafcce-a449-4953-8907-160f1d5ffd46",
   "metadata": {},
   "source": [
    "### 17. Question: Given a 4x4 array of random integers, use indexing and slicing to extract: \n",
    "* o The entire second row \n",
    "* o The last column \n",
    "* o The subarray consisting of the first two rows and first two columns"
   ]
  },
  {
   "cell_type": "code",
   "execution_count": 22,
   "id": "b2fcfaee-4058-4ba5-9269-f086ca083082",
   "metadata": {},
   "outputs": [
    {
     "name": "stdout",
     "output_type": "stream",
     "text": [
      "[[ 2  7 12  6]\n",
      " [13  4  1  5]\n",
      " [10 19 15  5]\n",
      " [19 14 10  5]]\n",
      "[13  4  1  5]\n",
      "[6 5 5 5]\n",
      "[[ 2  7]\n",
      " [13  4]]\n"
     ]
    }
   ],
   "source": [
    "array_4 = np.random.randint(0,20, (4,4))\n",
    "print(array_4)\n",
    "print(array_4[1,:])\n",
    "print(array_4[:,-1])\n",
    "print(array_4[:2,:2])"
   ]
  },
  {
   "cell_type": "markdown",
   "id": "2828c5e8-1ee1-45c5-8d7a-70bcd3aea7b6",
   "metadata": {},
   "source": [
    "### 18. Question: Describe a practical example where NumPy can be used in EDA, AI, ML, and DL, and implement a NumPy solution for a simple task in each area. "
   ]
  },
  {
   "cell_type": "code",
   "execution_count": 23,
   "id": "67d9afb1-578b-4a47-ae11-d90a030e08b8",
   "metadata": {},
   "outputs": [
    {
     "name": "stdout",
     "output_type": "stream",
     "text": [
      "Mean: 15.2\n",
      "Median: 14.5\n",
      "Standard Deviation: 3.1874754901018454\n",
      "Normalized Data:\n",
      "[[0.  0.  0. ]\n",
      " [0.5 0.5 0.5]\n",
      " [1.  1.  1. ]]\n",
      "Original Features:\n",
      "[[1]\n",
      " [2]\n",
      " [3]\n",
      " [4]]\n",
      "Polynomial Features:\n",
      "[[ 1  1]\n",
      " [ 2  4]\n",
      " [ 3  9]\n",
      " [ 4 16]]\n",
      "Data Batches:\n",
      "Batch 1:\n",
      "[[-0.81277767 -1.09859372 -1.88393186  0.75712965]\n",
      " [-0.17276599 -1.08465118  0.49118843 -2.39192919]\n",
      " [-0.98890074 -0.26585602 -1.218138   -0.61046728]\n",
      " [-1.19365573 -0.12157301 -1.14942517  1.11066319]]\n",
      "Batch 2:\n",
      "[[ 1.14916456 -0.64729216 -0.18170634  1.1122057 ]\n",
      " [ 1.38776338 -0.07312047 -0.8652107  -0.75873818]\n",
      " [ 1.64680987  0.54819958  0.48059213  0.46987342]]\n",
      "Batch 3:\n",
      "[[-1.60461311 -1.88315248 -0.21531378  0.16390877]\n",
      " [-0.32265482 -0.50961037  0.36917971  0.69568781]\n",
      " [ 1.36364822 -0.19022546 -0.29236223 -1.65131074]]\n"
     ]
    }
   ],
   "source": [
    "#1 EDA\n",
    "\n",
    "data = np.array([12, 15, 14, 10, 18, 21, 14, 13, 16, 19])\n",
    "mean = np.mean(data)\n",
    "median = np.median(data)\n",
    "std_dev = np.std(data)\n",
    "\n",
    "print(\"Mean:\", mean)\n",
    "print(\"Median:\", median)\n",
    "print(\"Standard Deviation:\", std_dev)\n",
    "\n",
    "#2 AI\n",
    "\n",
    "data = np.array([[100, 2000, 3], [200, 4000, 6], [300, 6000, 9]])\n",
    "min_vals = np.min(data, axis=0)\n",
    "max_vals = np.max(data, axis=0)\n",
    "normalized_data = (data - min_vals) / (max_vals - min_vals)\n",
    "\n",
    "print(\"Normalized Data:\")\n",
    "print(normalized_data)\n",
    "\n",
    "#3 ML\n",
    "\n",
    "X = np.array([[1], [2], [3], [4]])\n",
    "X_poly = np.hstack([X, X**2])\n",
    "\n",
    "print(\"Original Features:\")\n",
    "print(X)\n",
    "print(\"Polynomial Features:\")\n",
    "print(X_poly)\n",
    "\n",
    "#4 DL\n",
    "\n",
    "data = np.random.randn(10, 4)\n",
    "batch_size = 3\n",
    "num_batches = data.shape[0] // batch_size\n",
    "batches = np.array_split(data, num_batches)\n",
    "\n",
    "print(\"Data Batches:\")\n",
    "for i, batch in enumerate(batches):\n",
    "    print(f\"Batch {i + 1}:\")\n",
    "    print(batch)\n"
   ]
  },
  {
   "cell_type": "markdown",
   "id": "40d6e8e0-da9d-4e5b-8487-670a7b79f625",
   "metadata": {},
   "source": [
    "### 19. Question: Create a random 4x4 matrix and use NumPy to compute its eigenvalues and eigenvectors. Verify the eigenvalues by reconstructing the matrix. \n"
   ]
  },
  {
   "cell_type": "code",
   "execution_count": 26,
   "id": "5ee9606d-5917-44db-b717-3218cf842419",
   "metadata": {},
   "outputs": [
    {
     "name": "stdout",
     "output_type": "stream",
     "text": [
      "Original 4x4 Matrix:\n",
      "[[0.21810163 0.96495265 0.40672733 0.17777791]\n",
      " [0.97156802 0.12114396 0.58751556 0.92403409]\n",
      " [0.42217011 0.19292471 0.01208008 0.97450878]\n",
      " [0.19043054 0.07246912 0.94512949 0.38800849]]\n",
      "\n",
      "Eigenvalues:\n",
      "[ 1.80771229  0.46747565 -0.90211639 -0.63373741]\n",
      "\n",
      "Eigenvectors:\n",
      "[[ 0.53603977  0.74579527  0.61677127 -0.63537075]\n",
      " [ 0.64842543  0.37847403 -0.57282237  0.62171437]\n",
      " [ 0.39561344 -0.22145417 -0.4618887  -0.29678135]\n",
      " [ 0.36836915 -0.50150262  0.2795113   0.34884965]]\n",
      "\n",
      "Reconstructed Matrix:\n",
      "[[0.21810163 0.96495265 0.40672733 0.17777791]\n",
      " [0.97156802 0.12114396 0.58751556 0.92403409]\n",
      " [0.42217011 0.19292471 0.01208008 0.97450878]\n",
      " [0.19043054 0.07246912 0.94512949 0.38800849]]\n",
      "\n",
      "Matrix reconstruction is correct: True\n"
     ]
    }
   ],
   "source": [
    "matrix = np.random.rand(4, 4)\n",
    "\n",
    "print(\"Original 4x4 Matrix:\")\n",
    "print(matrix)\n",
    "\n",
    "eigenvalues, eigenvectors = np.linalg.eig(matrix)\n",
    "\n",
    "print(\"\\nEigenvalues:\")\n",
    "print(eigenvalues)\n",
    "\n",
    "print(\"\\nEigenvectors:\")\n",
    "print(eigenvectors)\n",
    "\n",
    "eigenvalues_diag = np.diag(eigenvalues)\n",
    "reconstructed_matrix = eigenvectors @ eigenvalues_diag @ np.linalg.inv(eigenvectors)\n",
    "\n",
    "print(\"\\nReconstructed Matrix:\")\n",
    "print(reconstructed_matrix)\n",
    "\n",
    "print(\"\\nMatrix reconstruction is correct:\", np.allclose(matrix, reconstructed_matrix))\n"
   ]
  },
  {
   "cell_type": "markdown",
   "id": "6bedb742-b56c-4bee-b876-c5edc735d870",
   "metadata": {},
   "source": [
    "### 20. Question: Create a 1D array of 27 elements and reshape it into a 3x3x3 3D array. Flatten it back into a 1D array and compare the flattened array with the original. \n"
   ]
  },
  {
   "cell_type": "code",
   "execution_count": 27,
   "id": "50f4daf3-b493-4b9c-ba09-835727dc378d",
   "metadata": {},
   "outputs": [
    {
     "name": "stdout",
     "output_type": "stream",
     "text": [
      "[ 0  1  2  3  4  5  6  7  8  9 10 11 12 13 14 15 16 17 18 19 20 21 22 23\n",
      " 24 25 26]\n",
      "3D Array:\n",
      "[[[ 0  1  2]\n",
      "  [ 3  4  5]\n",
      "  [ 6  7  8]]\n",
      "\n",
      " [[ 9 10 11]\n",
      "  [12 13 14]\n",
      "  [15 16 17]]\n",
      "\n",
      " [[18 19 20]\n",
      "  [21 22 23]\n",
      "  [24 25 26]]]\n",
      "\n",
      "Flattened 1D Array:\n",
      "[ 0  1  2  3  4  5  6  7  8  9 10 11 12 13 14 15 16 17 18 19 20 21 22 23\n",
      " 24 25 26]\n"
     ]
    }
   ],
   "source": [
    "array_1d = np.arange(27)\n",
    "print(array_1d)\n",
    "array_3d = array_1d.reshape((3, 3, 3))\n",
    "\n",
    "print(\"3D Array:\")\n",
    "print(array_3d)\n",
    "\n",
    "flattened_array = array_3d.ravel()\n",
    "\n",
    "print(\"\\nFlattened 1D Array:\")\n",
    "print(flattened_array)"
   ]
  },
  {
   "cell_type": "markdown",
   "id": "a7347355-aa44-49c3-ace9-71108dadee20",
   "metadata": {},
   "source": [
    "### 21. Question: Perform matrix multiplication of two 2D arrays using np.dot () and @. Compare the results and performance of both methods using a large dataset. "
   ]
  },
  {
   "cell_type": "code",
   "execution_count": 31,
   "id": "5f22b989-5d79-4051-bda3-c091a9cb44aa",
   "metadata": {},
   "outputs": [
    {
     "name": "stdout",
     "output_type": "stream",
     "text": [
      "Results are the same: True\n"
     ]
    }
   ],
   "source": [
    "\n",
    "\n",
    "# Create two large random 2D arrays (1000 x 1000)\n",
    "A = np.random.rand(1000, 1000)\n",
    "B = np.random.rand(1000, 1000)\n",
    "\n",
    "# Matrix multiplication using np.dot()\n",
    "result_dot = np.dot(A, B)\n",
    "\n",
    "# Matrix multiplication using @ operator\n",
    "result_at = A @ B\n",
    "\n",
    "# Compare results to ensure they are the same\n",
    "comparison = np.allclose(result_dot, result_at)\n",
    "\n",
    "print(\"Results are the same:\", comparison)\n"
   ]
  },
  {
   "cell_type": "markdown",
   "id": "17b73ae8-17e9-4eba-8db7-72049f61126a",
   "metadata": {},
   "source": [
    "### 22. Question: Create a 3D array of shape (2, 1, 4) and a 2D array of shape (4, 1). Perform an element-wise operation using broadcasting and explain the result. Use np. new axis to achieve the same result without broadcasting. \n"
   ]
  },
  {
   "cell_type": "code",
   "execution_count": 35,
   "id": "fc57319f-167c-4afb-bc0d-98e6a4fadf24",
   "metadata": {},
   "outputs": [
    {
     "name": "stdout",
     "output_type": "stream",
     "text": [
      "Array 3D:\n",
      "[[[1 2 3 4]]\n",
      "\n",
      " [[5 6 7 8]]]\n",
      "\n",
      "Array 2D:\n",
      "[[10]\n",
      " [20]\n",
      " [30]\n",
      " [40]]\n",
      "\n",
      "Result using broadcasting (element-wise addition):\n",
      "[[[11 22 33 44]]\n",
      "\n",
      " [[15 26 37 48]]]\n"
     ]
    }
   ],
   "source": [
    "import numpy as np\n",
    "\n",
    "# Create a 3D array of shape (2, 1, 4)\n",
    "array_3d = np.array([[[1, 2, 3, 4]], [[5, 6, 7, 8]]])\n",
    "\n",
    "# Create a 2D array of shape (4, 1)\n",
    "array_2d = np.array([[10], [20], [30], [40]])\n",
    "\n",
    "# Perform element-wise addition using broadcasting\n",
    "result_broadcasting = array_3d + array_2d.T\n",
    "\n",
    "print(\"Array 3D:\")\n",
    "print(array_3d)\n",
    "print(\"\\nArray 2D:\")\n",
    "print(array_2d)\n",
    "print(\"\\nResult using broadcasting (element-wise addition):\")\n",
    "print(result_broadcasting)\n"
   ]
  },
  {
   "cell_type": "markdown",
   "id": "a1e36b4a-ce5d-4de3-a678-771bdbd54157",
   "metadata": {},
   "source": [
    "### 23. Question: Generate a 2D array of random floats between 0 and 1. Use conditional operators to create a Boolean mask for values less than 0.5. Replace these values with their squares and leave the rest unchanged. "
   ]
  },
  {
   "cell_type": "code",
   "execution_count": 36,
   "id": "933d65dc-f15b-402d-968d-8ef57e457071",
   "metadata": {},
   "outputs": [
    {
     "name": "stdout",
     "output_type": "stream",
     "text": [
      "Original Array:\n",
      " [[0.64525384 0.30517344 0.29559523 0.24905865 0.80635255]\n",
      " [0.53927796 0.66198999 0.29248204 0.42010517 0.01443404]\n",
      " [0.75043689 0.16332292 0.54638538 0.82015582 0.89501692]\n",
      " [0.81207229 0.71297517 0.11304519 0.13757219 0.25043927]\n",
      " [0.43853756 0.66711182 0.10047763 0.96320424 0.26512703]]\n",
      "Modified Array:\n",
      " [[6.45253840e-01 9.31308257e-02 8.73765373e-02 6.20302105e-02\n",
      "  8.06352549e-01]\n",
      " [5.39277957e-01 6.61989994e-01 8.55457452e-02 1.76488352e-01\n",
      "  2.08341431e-04]\n",
      " [7.50436890e-01 2.66743749e-02 5.46385377e-01 8.20155823e-01\n",
      "  8.95016922e-01]\n",
      " [8.12072290e-01 7.12975167e-01 1.27792140e-02 1.89261070e-02\n",
      "  6.27198258e-02]\n",
      " [1.92315187e-01 6.67111822e-01 1.00957548e-02 9.63204238e-01\n",
      "  7.02923399e-02]]\n"
     ]
    }
   ],
   "source": [
    "array = np.random.rand(5, 5)\n",
    "\n",
    "print(\"Original Array:\\n\", array)\n",
    "mask = array < 0.5\n",
    "array[mask] = array[mask] ** 2\n",
    "\n",
    "print(\"Modified Array:\\n\", array)\n"
   ]
  },
  {
   "cell_type": "markdown",
   "id": "d561432a-5160-4257-9d14-882f2b936aad",
   "metadata": {},
   "source": [
    "### 24. Question: Given a 5x5 array of sequential integers, use slicing to: \n",
    "* o Extract the diagonal elements \n",
    "* o Replace the elements of the middle row with zeros \n",
    "* o Flip the array vertically and horizontally "
   ]
  },
  {
   "cell_type": "code",
   "execution_count": 37,
   "id": "6373f459-eb95-48e3-919d-a487a3acc92b",
   "metadata": {},
   "outputs": [
    {
     "name": "stdout",
     "output_type": "stream",
     "text": [
      "Original Array:\n",
      " [[ 0  1  2  3  4]\n",
      " [ 5  6  7  8  9]\n",
      " [10 11 12 13 14]\n",
      " [15 16 17 18 19]\n",
      " [20 21 22 23 24]]\n",
      "Diagonal Elements:\n",
      " [ 0  6 12 18 24]\n",
      "Array with Middle Row Zeros:\n",
      " [[ 0  1  2  3  4]\n",
      " [ 5  6  7  8  9]\n",
      " [ 0  0  0  0  0]\n",
      " [15 16 17 18 19]\n",
      " [20 21 22 23 24]]\n",
      "Flipped Array:\n",
      " [[24 23 22 21 20]\n",
      " [19 18 17 16 15]\n",
      " [ 0  0  0  0  0]\n",
      " [ 9  8  7  6  5]\n",
      " [ 4  3  2  1  0]]\n"
     ]
    }
   ],
   "source": [
    "array = np.arange(25).reshape(5, 5)\n",
    "print(\"Original Array:\\n\", array)\n",
    "\n",
    "diagonal_elements = np.diagonal(array)\n",
    "print(\"Diagonal Elements:\\n\", diagonal_elements)\n",
    "\n",
    "array[2, :] = 0\n",
    "print(\"Array with Middle Row Zeros:\\n\", array)\n",
    "\n",
    "flipped_array = array[::-1, ::-1]\n",
    "print(\"Flipped Array:\\n\", flipped_array)"
   ]
  },
  {
   "cell_type": "markdown",
   "id": "06f72c2f-12e9-448c-8327-8a6014aec26b",
   "metadata": {},
   "source": [
    "### 25. Question: Create a 4D array of shape (2, 3, 4, 5) with random integers. Use advanced slicing to extract a subarray and compute the mean along a specified axis."
   ]
  },
  {
   "cell_type": "code",
   "execution_count": 38,
   "id": "be3f5293-bdc0-4346-b097-6e728bfd93c1",
   "metadata": {},
   "outputs": [
    {
     "name": "stdout",
     "output_type": "stream",
     "text": [
      "Original 4D Array:\n",
      " [[[[6 1 3 7 0]\n",
      "   [6 7 6 4 9]\n",
      "   [4 8 2 0 9]\n",
      "   [7 7 8 3 3]]\n",
      "\n",
      "  [[6 9 6 9 5]\n",
      "   [8 3 3 9 6]\n",
      "   [1 3 7 8 7]\n",
      "   [2 8 3 2 9]]\n",
      "\n",
      "  [[4 0 4 8 3]\n",
      "   [0 8 8 1 6]\n",
      "   [3 1 4 9 1]\n",
      "   [8 2 3 7 3]]]\n",
      "\n",
      "\n",
      " [[[0 5 4 6 9]\n",
      "   [1 7 1 7 2]\n",
      "   [4 7 4 9 2]\n",
      "   [5 8 0 1 7]]\n",
      "\n",
      "  [[2 8 8 5 3]\n",
      "   [9 2 3 1 5]\n",
      "   [6 2 8 5 1]\n",
      "   [4 3 5 6 5]]\n",
      "\n",
      "  [[7 9 0 4 4]\n",
      "   [9 8 1 1 9]\n",
      "   [3 5 0 7 3]\n",
      "   [5 9 0 1 5]]]]\n",
      "Extracted Subarray:\n",
      " [[[6 9 6 9 5]\n",
      "  [8 3 3 9 6]\n",
      "  [1 3 7 8 7]\n",
      "  [2 8 3 2 9]]\n",
      "\n",
      " [[4 0 4 8 3]\n",
      "  [0 8 8 1 6]\n",
      "  [3 1 4 9 1]\n",
      "  [8 2 3 7 3]]]\n",
      "Mean Along Axis 2:\n",
      " [[7.  5.8 5.2 4.8]\n",
      " [3.8 4.6 3.6 4.6]]\n"
     ]
    }
   ],
   "source": [
    "array_4d = np.random.randint(0, 10, size=(2, 3, 4, 5))\n",
    "print(\"Original 4D Array:\\n\", array_4d)\n",
    "\n",
    "subarray = array_4d[0, 1:3, :, :]\n",
    "print(\"Extracted Subarray:\\n\", subarray)\n",
    "\n",
    "mean_along_axis2 = np.mean(subarray, axis=2)\n",
    "print(\"Mean Along Axis 2:\\n\", mean_along_axis2)"
   ]
  },
  {
   "cell_type": "markdown",
   "id": "82a22848-215c-43d8-86b9-b582fbd6443a",
   "metadata": {},
   "source": [
    "### 26. Question: Given an array of shape (10, 20), reshape it to (20, 10) and (5, 40). Discuss the impact on the array's shape, size, and dimensionality. "
   ]
  },
  {
   "cell_type": "code",
   "execution_count": 41,
   "id": "cc772997-762b-48fd-8095-aa80b3808b46",
   "metadata": {},
   "outputs": [
    {
     "name": "stdout",
     "output_type": "stream",
     "text": [
      "[[  0   1   2   3   4   5   6   7   8   9  10  11  12  13  14  15  16  17\n",
      "   18  19]\n",
      " [ 20  21  22  23  24  25  26  27  28  29  30  31  32  33  34  35  36  37\n",
      "   38  39]\n",
      " [ 40  41  42  43  44  45  46  47  48  49  50  51  52  53  54  55  56  57\n",
      "   58  59]\n",
      " [ 60  61  62  63  64  65  66  67  68  69  70  71  72  73  74  75  76  77\n",
      "   78  79]\n",
      " [ 80  81  82  83  84  85  86  87  88  89  90  91  92  93  94  95  96  97\n",
      "   98  99]\n",
      " [100 101 102 103 104 105 106 107 108 109 110 111 112 113 114 115 116 117\n",
      "  118 119]\n",
      " [120 121 122 123 124 125 126 127 128 129 130 131 132 133 134 135 136 137\n",
      "  138 139]\n",
      " [140 141 142 143 144 145 146 147 148 149 150 151 152 153 154 155 156 157\n",
      "  158 159]\n",
      " [160 161 162 163 164 165 166 167 168 169 170 171 172 173 174 175 176 177\n",
      "  178 179]\n",
      " [180 181 182 183 184 185 186 187 188 189 190 191 192 193 194 195 196 197\n",
      "  198 199]]\n",
      "Reshaped Array (20, 10):\n",
      " [[  0   1   2   3   4   5   6   7   8   9]\n",
      " [ 10  11  12  13  14  15  16  17  18  19]\n",
      " [ 20  21  22  23  24  25  26  27  28  29]\n",
      " [ 30  31  32  33  34  35  36  37  38  39]\n",
      " [ 40  41  42  43  44  45  46  47  48  49]\n",
      " [ 50  51  52  53  54  55  56  57  58  59]\n",
      " [ 60  61  62  63  64  65  66  67  68  69]\n",
      " [ 70  71  72  73  74  75  76  77  78  79]\n",
      " [ 80  81  82  83  84  85  86  87  88  89]\n",
      " [ 90  91  92  93  94  95  96  97  98  99]\n",
      " [100 101 102 103 104 105 106 107 108 109]\n",
      " [110 111 112 113 114 115 116 117 118 119]\n",
      " [120 121 122 123 124 125 126 127 128 129]\n",
      " [130 131 132 133 134 135 136 137 138 139]\n",
      " [140 141 142 143 144 145 146 147 148 149]\n",
      " [150 151 152 153 154 155 156 157 158 159]\n",
      " [160 161 162 163 164 165 166 167 168 169]\n",
      " [170 171 172 173 174 175 176 177 178 179]\n",
      " [180 181 182 183 184 185 186 187 188 189]\n",
      " [190 191 192 193 194 195 196 197 198 199]]\n",
      "Shape: (20, 10)\n",
      "Size: 200\n",
      "Dimensionality: 2\n",
      "Reshaped Array (5, 40):\n",
      " [[  0   1   2   3   4   5   6   7   8   9  10  11  12  13  14  15  16  17\n",
      "   18  19  20  21  22  23  24  25  26  27  28  29  30  31  32  33  34  35\n",
      "   36  37  38  39]\n",
      " [ 40  41  42  43  44  45  46  47  48  49  50  51  52  53  54  55  56  57\n",
      "   58  59  60  61  62  63  64  65  66  67  68  69  70  71  72  73  74  75\n",
      "   76  77  78  79]\n",
      " [ 80  81  82  83  84  85  86  87  88  89  90  91  92  93  94  95  96  97\n",
      "   98  99 100 101 102 103 104 105 106 107 108 109 110 111 112 113 114 115\n",
      "  116 117 118 119]\n",
      " [120 121 122 123 124 125 126 127 128 129 130 131 132 133 134 135 136 137\n",
      "  138 139 140 141 142 143 144 145 146 147 148 149 150 151 152 153 154 155\n",
      "  156 157 158 159]\n",
      " [160 161 162 163 164 165 166 167 168 169 170 171 172 173 174 175 176 177\n",
      "  178 179 180 181 182 183 184 185 186 187 188 189 190 191 192 193 194 195\n",
      "  196 197 198 199]]\n",
      "Shape: (5, 40)\n",
      "Size: 200\n",
      "Dimensionality: 2\n"
     ]
    }
   ],
   "source": [
    "array = np.arange(200).reshape(10, 20)\n",
    "print(array)\n",
    "\n",
    "# Reshape to (20, 10)\n",
    "reshaped_array_1 = array.reshape(20, 10)\n",
    "\n",
    "print(\"Reshaped Array (20, 10):\\n\", reshaped_array_1)\n",
    "print(\"Shape:\", reshaped_array_1.shape)\n",
    "print(\"Size:\", reshaped_array_1.size)\n",
    "print(\"Dimensionality:\", reshaped_array_1.ndim)\n",
    "\n",
    "# Reshape to (5, 40)\n",
    "reshaped_array_2 = array.reshape(5, 40)\n",
    "\n",
    "print(\"Reshaped Array (5, 40):\\n\", reshaped_array_2)\n",
    "print(\"Shape:\", reshaped_array_2.shape)\n",
    "print(\"Size:\", reshaped_array_2.size)\n",
    "print(\"Dimensionality:\", reshaped_array_2.ndim)"
   ]
  },
  {
   "cell_type": "markdown",
   "id": "bffd8bfa-76ff-48f4-98ba-2af00e7bfea7",
   "metadata": {},
   "source": [
    "### 27. Question: Generate a large 2D array and demonstrate the use of np. reshape () and unravel () to manipulate its shape for various linear algebra operations. "
   ]
  },
  {
   "cell_type": "code",
   "execution_count": 42,
   "id": "642044bf-0218-4b7f-9806-c73cd5d832fd",
   "metadata": {},
   "outputs": [
    {
     "name": "stdout",
     "output_type": "stream",
     "text": [
      "Original 2D Array Shape: (1000, 1000)\n",
      "Reshaped Array (2000, 500): (2000, 500)\n",
      "Reshaped Array (10, 100, 1000): (10, 100, 1000)\n",
      "Flattened Array Shape: (1000000,)\n",
      "Restored Array Shape: (1000, 1000)\n",
      "Result Matrix Shape: (1000, 1000)\n"
     ]
    }
   ],
   "source": [
    "rows, cols = 1000, 1000\n",
    "large_array = np.arange(rows * cols).reshape(rows, cols)\n",
    "\n",
    "print(\"Original 2D Array Shape:\", large_array.shape)\n",
    "\n",
    "reshaped_array_1 = large_array.reshape((2000, 500))\n",
    "reshaped_array_2 = large_array.reshape((10, 100, 1000))\n",
    "\n",
    "print(\"Reshaped Array (2000, 500):\", reshaped_array_1.shape)\n",
    "print(\"Reshaped Array (10, 100, 1000):\", reshaped_array_2.shape)\n",
    "\n",
    "flattened_array = large_array.ravel()\n",
    "print(\"Flattened Array Shape:\", flattened_array.shape)\n",
    "\n",
    "restored_array = flattened_array.reshape(rows, cols)\n",
    "print(\"Restored Array Shape:\", restored_array.shape)\n",
    "\n",
    "matrix_1 = np.random.rand(500, 1000)\n",
    "matrix_2 = np.random.rand(1000, 500)\n",
    "\n",
    "reshaped_matrix_1 = matrix_1.reshape(1000, 500)\n",
    "reshaped_matrix_2 = matrix_2.reshape(500, 1000)\n",
    "\n",
    "result_matrix = np.dot(reshaped_matrix_1, reshaped_matrix_2)\n",
    "\n",
    "print(\"Result Matrix Shape:\", result_matrix.shape)\n"
   ]
  },
  {
   "cell_type": "markdown",
   "id": "3e722e04-9c6c-4a1a-a247-e3f6b62c9c4b",
   "metadata": {},
   "source": [
    "### 28. Question: Given a 6x6 matrix, use advanced indexing and slicing to extract the upper triangular part of the matrix and set the lower triangular part to zero. Verify the result. \n"
   ]
  },
  {
   "cell_type": "code",
   "execution_count": 43,
   "id": "a8efdbee-b067-46de-b083-ce4cc5a621b2",
   "metadata": {},
   "outputs": [
    {
     "name": "stdout",
     "output_type": "stream",
     "text": [
      "Original 6x6 Matrix:\n",
      " [[ 1  2  3  4  5  6]\n",
      " [ 7  8  9 10 11 12]\n",
      " [13 14 15 16 17 18]\n",
      " [19 20 21 22 23 24]\n",
      " [25 26 27 28 29 30]\n",
      " [31 32 33 34 35 36]]\n",
      "Upper Triangular Part:\n",
      " [[ 1  2  3  4  5  6]\n",
      " [ 0  8  9 10 11 12]\n",
      " [ 0  0 15 16 17 18]\n",
      " [ 0  0  0 22 23 24]\n",
      " [ 0  0  0  0 29 30]\n",
      " [ 0  0  0  0  0 36]]\n",
      "Matrix with Lower Triangular Part Set to Zero:\n",
      " [[ 1  2  3  4  5  6]\n",
      " [ 0  8  9 10 11 12]\n",
      " [ 0  0 15 16 17 18]\n",
      " [ 0  0  0 22 23 24]\n",
      " [ 0  0  0  0 29 30]\n",
      " [ 0  0  0  0  0 36]]\n",
      "Manually Zeroed Lower Triangular Part Matrix:\n",
      " [[ 1  2  3  4  5  6]\n",
      " [ 0  8  9 10 11 12]\n",
      " [ 0  0 15 16 17 18]\n",
      " [ 0  0  0 22 23 24]\n",
      " [ 0  0  0  0 29 30]\n",
      " [ 0  0  0  0  0 36]]\n",
      "Verification (Are the matrices equal?): True\n"
     ]
    }
   ],
   "source": [
    "matrix = np.arange(1, 37).reshape(6, 6)\n",
    "print(\"Original 6x6 Matrix:\\n\", matrix)\n",
    "\n",
    "upper_triangular = np.triu(matrix)\n",
    "print(\"Upper Triangular Part:\\n\", upper_triangular)\n",
    "\n",
    "lower_triangular_zeroed = np.triu(matrix)\n",
    "print(\"Matrix with Lower Triangular Part Set to Zero:\\n\", lower_triangular_zeroed)\n",
    "\n",
    "lower_triangular_zeroed_manual = matrix.copy()\n",
    "lower_triangular_zeroed_manual[np.tril_indices_from(lower_triangular_zeroed_manual, -1)] = 0\n",
    "print(\"Manually Zeroed Lower Triangular Part Matrix:\\n\", lower_triangular_zeroed_manual)\n",
    "\n",
    "print(\"Verification (Are the matrices equal?):\", np.array_equal(lower_triangular_zeroed, lower_triangular_zeroed_manual))"
   ]
  },
  {
   "cell_type": "code",
   "execution_count": null,
   "id": "eb519bc0-0e8c-4ace-b8ce-4a00f020d3d4",
   "metadata": {},
   "outputs": [],
   "source": []
  }
 ],
 "metadata": {
  "kernelspec": {
   "display_name": "Python 3 (ipykernel)",
   "language": "python",
   "name": "python3"
  },
  "language_info": {
   "codemirror_mode": {
    "name": "ipython",
    "version": 3
   },
   "file_extension": ".py",
   "mimetype": "text/x-python",
   "name": "python",
   "nbconvert_exporter": "python",
   "pygments_lexer": "ipython3",
   "version": "3.12.4"
  }
 },
 "nbformat": 4,
 "nbformat_minor": 5
}
