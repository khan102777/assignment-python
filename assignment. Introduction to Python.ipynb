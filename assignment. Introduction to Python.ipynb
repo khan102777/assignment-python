{
 "cells": [
  {
   "cell_type": "markdown",
   "id": "9d95156e-145b-46d1-b26c-65915f671ecb",
   "metadata": {},
   "source": [
    "# Module 7 DA - Introduction to Python Assignment "
   ]
  },
  {
   "cell_type": "markdown",
   "id": "99780627-b736-4465-8e8c-54a111ef8553",
   "metadata": {},
   "source": [
    "### 1) What are the types of Applications? \n",
    "* Web Development: Using frameworks like Django and Flask.\n",
    "* Data Analysis and Visualization: Utilizing libraries like Pandas and Matplotlib.\n",
    "* Machine Learning and AI: Leveraging frameworks like TensorFlow and Scikit-learn.\n",
    "* Desktop GUI Applications: Creating interfaces with libraries like Tkinter and PyQt."
   ]
  },
  {
   "cell_type": "markdown",
   "id": "a7089f41-e008-498f-85b0-f241e3117e8e",
   "metadata": {},
   "source": [
    "### 2) What is programing? \n",
    "* Programming is the process of designing and building an executable set of instructions to enable a computer to perform specific tasks. It involves writing code in a programming language to create software applications, scripts, or other sets of instructions for a computer to follow. Here's a more detailed breakdown:"
   ]
  },
  {
   "cell_type": "markdown",
   "id": "de3fb3a5-8a78-44f0-a628-ab21c78b1b31",
   "metadata": {},
   "source": [
    "### 3) What is Python? \n",
    "* Python is a high-level, interpreted programming language known for its readability, simplicity, and versatility. It's widely used for web development, data analysis, artificial intelligence, scientific computing, and more. Its syntax is designed to be easy to understand and write, making it a popular choice for both beginners and experienced developers."
   ]
  },
  {
   "cell_type": "markdown",
   "id": "5d130bc1-c3e1-4cfc-9ba0-48f35cba5259",
   "metadata": {},
   "source": [
    "### 4) Write a Python program to check if a number is positive, negative or zero. "
   ]
  },
  {
   "cell_type": "code",
   "execution_count": 13,
   "id": "cf329bb1-8c2b-4301-bacf-f5969d2188ac",
   "metadata": {},
   "outputs": [
    {
     "name": "stdin",
     "output_type": "stream",
     "text": [
      "Enter number:  0\n"
     ]
    },
    {
     "name": "stdout",
     "output_type": "stream",
     "text": [
      "you numner is zero: \n"
     ]
    }
   ],
   "source": [
    "\n",
    "num = int(input(\"Enter number: \"))\n",
    "if num == 0:\n",
    "    print(\"you numner is zero: \")\n",
    "elif num < 0:\n",
    "    print(\"your number is negative\")\n",
    "else:\n",
    "    print(\"your numner is positive\")\n"
   ]
  },
  {
   "cell_type": "markdown",
   "id": "4b9ceeb4-fedd-482c-b775-2b1884a51e24",
   "metadata": {},
   "source": [
    "### 5)Write a Python program to get the Factorial number of given numbers. \n"
   ]
  },
  {
   "cell_type": "code",
   "execution_count": 25,
   "id": "786f314f-4d3f-4132-98ee-06f8d6dfd2c4",
   "metadata": {},
   "outputs": [
    {
     "name": "stdin",
     "output_type": "stream",
     "text": [
      "Enter your numner 5\n"
     ]
    },
    {
     "name": "stdout",
     "output_type": "stream",
     "text": [
      "factorial is : 24\n"
     ]
    }
   ],
   "source": [
    "n = int(input(\"Enter your numner\"))\n",
    "fact = 1\n",
    "\n",
    "for i in range(1,n+1):\n",
    "    fact *= i\n",
    "print(\"factorial is :\",fact)    \n"
   ]
  },
  {
   "cell_type": "markdown",
   "id": "7dfa5d7e-9d1c-42ce-a16c-2cd427f10537",
   "metadata": {},
   "source": [
    "### 6)Write a Python program to get the Fibonacci series of given range. "
   ]
  },
  {
   "cell_type": "code",
   "execution_count": 31,
   "id": "b5ee1f64-2c04-41d7-916d-0f5fdfbe73d5",
   "metadata": {},
   "outputs": [
    {
     "name": "stdin",
     "output_type": "stream",
     "text": [
      "Enter the number of terms for the Fibonacci series:  5\n"
     ]
    },
    {
     "name": "stdout",
     "output_type": "stream",
     "text": [
      "0,1,1,2,3,"
     ]
    }
   ],
   "source": [
    "n = int(input(\"Enter the number of terms for the Fibonacci series: \"))\n",
    "a = 0\n",
    "b = 1\n",
    "for i in range(n):\n",
    "    print(a, end=\",\")\n",
    "    a, b = b, a + b\n",
    "\n",
    "\n"
   ]
  },
  {
   "cell_type": "markdown",
   "id": "8be2ec99-1332-4dcf-be4d-15929940ddf8",
   "metadata": {},
   "source": [
    "### 7)How memory is managed in Python?\n",
    "* Python manages memory automatically using reference counting and garbage collection. It allocates memory dynamically and cleans up unused objects to prevent memory leaks. The `gc` module helps control and monitor garbage collection."
   ]
  },
  {
   "cell_type": "markdown",
   "id": "db6e61de-c68f-4af1-b658-376707f78dce",
   "metadata": {},
   "source": [
    "### 8)What is the purpose continuing statement in python?\n",
    "* The `continue` statement in Python is used to skip the rest of the current loop iteration and proceed to the next iteration. It is typically used to bypass certain conditions within loops, allowing the loop to continue executing without executing the remaining code for that iteration."
   ]
  },
  {
   "cell_type": "markdown",
   "id": "7e66a53b-401f-4b77-9d9e-3101579e28c0",
   "metadata": {},
   "source": [
    "### 9) Write python program that swap two number with temp variable and without temp variable. "
   ]
  },
  {
   "cell_type": "markdown",
   "id": "5b953396-da14-407c-bac9-5ce0540e38bb",
   "metadata": {},
   "source": [
    "#### Using a Temporary Variable"
   ]
  },
  {
   "cell_type": "code",
   "execution_count": 32,
   "id": "54c6d75a-d4e3-4b72-bd59-b9479691e22a",
   "metadata": {},
   "outputs": [
    {
     "name": "stdin",
     "output_type": "stream",
     "text": [
      "Enter the first number:  3\n",
      "Enter the second number:  4\n"
     ]
    },
    {
     "name": "stdout",
     "output_type": "stream",
     "text": [
      "After swapping (with temp variable):\n",
      "First number: 4\n",
      "Second number: 3\n"
     ]
    }
   ],
   "source": [
    "a = int(input(\"Enter the first number: \"))\n",
    "b = int(input(\"Enter the second number: \"))\n",
    "temp = a\n",
    "a = b\n",
    "b = temp\n",
    "\n",
    "print(\"After swapping (with temp variable):\")\n",
    "print(\"First number:\", a)\n",
    "print(\"Second number:\", b)\n"
   ]
  },
  {
   "cell_type": "markdown",
   "id": "cf93e821-a01a-4a62-b1f7-5b171c61cd6c",
   "metadata": {},
   "source": [
    "#### Without Using a Temporary Variable"
   ]
  },
  {
   "cell_type": "code",
   "execution_count": 33,
   "id": "9ad50fab-3c82-457e-8e20-3237bec5e75f",
   "metadata": {},
   "outputs": [
    {
     "name": "stdin",
     "output_type": "stream",
     "text": [
      "Enter the first number:  3\n",
      "Enter the second number:  4\n"
     ]
    },
    {
     "name": "stdout",
     "output_type": "stream",
     "text": [
      "After swapping (without temp variable):\n",
      "First number: 4\n",
      "Second number: 3\n"
     ]
    }
   ],
   "source": [
    "a = int(input(\"Enter the first number: \"))\n",
    "b = int(input(\"Enter the second number: \"))\n",
    "\n",
    "a, b = b, a\n",
    "print(\"After swapping (without temp variable):\")\n",
    "print(\"First number:\", a)\n",
    "print(\"Second number:\", b)\n"
   ]
  },
  {
   "cell_type": "markdown",
   "id": "1a3107bc-fd2a-437e-b9ec-1290f9d1e147",
   "metadata": {},
   "source": [
    "### 10) Write a Python program to find whether a given number is even or odd, print out an appropriate message to the user. \n"
   ]
  },
  {
   "cell_type": "code",
   "execution_count": 35,
   "id": "10bdeeb6-86e1-4947-ada1-f1c6a5d95bfb",
   "metadata": {},
   "outputs": [
    {
     "name": "stdin",
     "output_type": "stream",
     "text": [
      "Enter your number: 3\n"
     ]
    },
    {
     "name": "stdout",
     "output_type": "stream",
     "text": [
      "your number is odd\n"
     ]
    }
   ],
   "source": [
    "n = int(input(\"Enter your number:\"))\n",
    "if n %2 == 0:\n",
    "    print(\"your number is even\")\n",
    "else:\n",
    "    print(\"your number is odd\")"
   ]
  },
  {
   "cell_type": "markdown",
   "id": "f7284da9-c944-48af-b2b0-b962d9ac4d68",
   "metadata": {},
   "source": [
    "### 11) Write a Python program to test whether a passed letter is a vowel or not. "
   ]
  },
  {
   "cell_type": "code",
   "execution_count": 42,
   "id": "9a1917c8-c317-4685-99bb-d21128353c7d",
   "metadata": {},
   "outputs": [
    {
     "name": "stdin",
     "output_type": "stream",
     "text": [
      "write a letter o\n"
     ]
    },
    {
     "name": "stdout",
     "output_type": "stream",
     "text": [
      "letter is a vowel\n"
     ]
    }
   ],
   "source": [
    "x = str(input(\"write a letter\"))\n",
    "if x == \"a\":\n",
    "    print(\"letter is a vowel\")\n",
    "elif x == \"e\":\n",
    "    print(\"letter is a vowel\")\n",
    "elif x == \"i\":\n",
    "    print(\"letter is a vowel\")\n",
    "elif x == \"o\":\n",
    "    print(\"letter is a vowel\")\n",
    "elif x == \"u\":\n",
    "    print(\"letter is a vowel\")\n",
    "else:\n",
    "    print(\"letter is not vowel\")"
   ]
  },
  {
   "cell_type": "markdown",
   "id": "65841a89-d3cb-4d25-aaf5-542bbc4a035a",
   "metadata": {},
   "source": [
    "### 12) Write a Python program to sum of three given integers. However, if two values are equal sum will be zero. "
   ]
  },
  {
   "cell_type": "code",
   "execution_count": 45,
   "id": "1adc3e65-13b7-4043-8687-d5b5a6541b13",
   "metadata": {},
   "outputs": [
    {
     "name": "stdin",
     "output_type": "stream",
     "text": [
      "enter number1 1\n",
      "enter number2 1\n",
      "enter number3 2\n"
     ]
    },
    {
     "name": "stdout",
     "output_type": "stream",
     "text": [
      "0\n"
     ]
    }
   ],
   "source": [
    "a = int(input(\"enter number1\"))\n",
    "b = int(input(\"enter number2\"))\n",
    "c = int(input(\"enter number3\"))\n",
    "sum = a + b + c\n",
    "if a != b and a != c and b != c:\n",
    "    print(sum)\n",
    "else:\n",
    "    print(\"0\")\n",
    "    "
   ]
  },
  {
   "cell_type": "markdown",
   "id": "3d50e101-8295-47c1-9bfc-a84025f5dfb5",
   "metadata": {},
   "source": [
    "### 13) Write a Python program that will return true if the two given integer values are equal or their sum or difference is 5. \n"
   ]
  },
  {
   "cell_type": "code",
   "execution_count": 48,
   "id": "e219ce68-0790-4482-aa36-432710d3f8f2",
   "metadata": {},
   "outputs": [
    {
     "name": "stdin",
     "output_type": "stream",
     "text": [
      "Enter number1 4\n",
      "Enter number2 7\n"
     ]
    },
    {
     "name": "stdout",
     "output_type": "stream",
     "text": [
      "false\n"
     ]
    }
   ],
   "source": [
    "a = int(input(\"Enter number1\"))\n",
    "b = int(input(\"Enter number2\"))\n",
    "if a == b or a - b == 5 or a+b == 5:\n",
    "    print(\"True\")\n",
    "else:\n",
    "    print(\"false\")"
   ]
  },
  {
   "cell_type": "markdown",
   "id": "2b9702b5-44d9-46d7-a1c8-79821108c0ed",
   "metadata": {},
   "source": [
    "### 14)Write a python program to sum of the first n positive integers. "
   ]
  },
  {
   "cell_type": "code",
   "execution_count": 57,
   "id": "21dbe5de-b8c5-489f-9164-b034139e2e9a",
   "metadata": {},
   "outputs": [
    {
     "name": "stdin",
     "output_type": "stream",
     "text": [
      "Enter number 100\n"
     ]
    },
    {
     "name": "stdout",
     "output_type": "stream",
     "text": [
      "sum is:  5050\n"
     ]
    }
   ],
   "source": [
    "n = int(input(\"Enter number\"))\n",
    "sum=0\n",
    "for i in range(n+1):\n",
    "    sum +=i\n",
    "print(\"sum is: \",sum)"
   ]
  },
  {
   "cell_type": "markdown",
   "id": "60b71000-edfa-49a5-92e2-0a3ee4c839b1",
   "metadata": {},
   "source": [
    "### 15)Write a Python program to calculate the length of a string. \n"
   ]
  },
  {
   "cell_type": "code",
   "execution_count": 59,
   "id": "21ddc5c7-bae2-426a-809f-540d861b9cba",
   "metadata": {},
   "outputs": [
    {
     "name": "stdin",
     "output_type": "stream",
     "text": [
      "Enter your name khan.j.h\n"
     ]
    },
    {
     "name": "stdout",
     "output_type": "stream",
     "text": [
      "8\n"
     ]
    }
   ],
   "source": [
    "abc = str(input(\"Enter your name\"))\n",
    "print(len(abc))"
   ]
  },
  {
   "cell_type": "markdown",
   "id": "1826db84-2dd3-46f9-be89-1fd7db8da14a",
   "metadata": {},
   "source": [
    "### 16) Write a Python program to count the number of characters(character frequency) in a string "
   ]
  },
  {
   "cell_type": "code",
   "execution_count": 60,
   "id": "7db04d64-9e68-4c66-896c-2676fc8aeec0",
   "metadata": {},
   "outputs": [
    {
     "name": "stdin",
     "output_type": "stream",
     "text": [
      "Enter your name: k\n"
     ]
    }
   ],
   "source": [
    "a = str(input(\"Enter your name:\"))\n",
    "\n"
   ]
  },
  {
   "cell_type": "markdown",
   "id": "d0c1b93a-98c6-449d-9aa8-b686c0fc1821",
   "metadata": {},
   "source": [
    "### 17)What are negative indexes and why are they used? \n",
    "* Negative indexes in Python allow access to elements from the end of a sequence. They provide a convenient and readable way to refer to elements without calculating their positive index. For example, `-1` refers to the last element, `-2` to the second last, and so on."
   ]
  },
  {
   "cell_type": "markdown",
   "id": "0715ffab-bda0-45b6-9649-67f9ddf2bcf9",
   "metadata": {},
   "source": [
    "### 18)Write a Python program to count occurrences of a substring in a string. "
   ]
  },
  {
   "cell_type": "code",
   "execution_count": 65,
   "id": "80439a65-a098-417b-8aff-1b3ef1ffda57",
   "metadata": {},
   "outputs": [
    {
     "name": "stdin",
     "output_type": "stream",
     "text": [
      "Enter the main string:  kjhjfgfrsatsgvuyg\n",
      "Enter the substring:  j\n"
     ]
    },
    {
     "name": "stdout",
     "output_type": "stream",
     "text": [
      "The substring ( j ) occurs ( 2 ) times in the main string.\n"
     ]
    }
   ],
   "source": [
    "main_string = input(\"Enter the main string: \")\n",
    "substring = input(\"Enter the substring: \")\n",
    "\n",
    "count = main_string.count(substring)\n",
    "\n",
    "print(\"The substring (\", substring, \") occurs (\", count, \") times in the main string.\")\n"
   ]
  },
  {
   "cell_type": "markdown",
   "id": "30c2dd69-3f25-4f0a-b345-39d5b3ac069c",
   "metadata": {},
   "source": [
    "### 19) Write a Python program to count the occurrences of each word in a given sentence "
   ]
  },
  {
   "cell_type": "code",
   "execution_count": null,
   "id": "ddeac7d7-adfd-48ee-bca3-2410a5f39452",
   "metadata": {},
   "outputs": [],
   "source": []
  },
  {
   "cell_type": "markdown",
   "id": "061fcfec-d4e9-4634-8fbd-5db37adb56ba",
   "metadata": {},
   "source": [
    "### 20) Write a Python program to get a single string from two given strings, separated by a space and swap the first two characters of each string. \n"
   ]
  },
  {
   "cell_type": "code",
   "execution_count": 68,
   "id": "7e447b86-c936-4bc1-9d60-5f1f11fcb0ac",
   "metadata": {},
   "outputs": [
    {
     "name": "stdin",
     "output_type": "stream",
     "text": [
      "Enter string khan\n",
      "Enter string jaan\n"
     ]
    },
    {
     "name": "stdout",
     "output_type": "stream",
     "text": [
      "jaan khan\n"
     ]
    }
   ],
   "source": [
    "a = str(input(\"Enter string\"))\n",
    "b = str(input(\"Enter string\"))\n",
    "print(b[0:2]+a[2:],a[0:2]+b[2:],sep=\" \")"
   ]
  },
  {
   "cell_type": "markdown",
   "id": "5d1855f6-c816-4498-a059-8252d7803da3",
   "metadata": {},
   "source": [
    "### 21) Write a Python program to add 'in' at the end of a given string (length should be at least 3). If the given string already ends with 'ing' then add 'ly' instead if the string length of the given string is less than 3, leave it unchanged. \n"
   ]
  },
  {
   "cell_type": "code",
   "execution_count": 80,
   "id": "e57a4c84-dac0-4f0f-a020-2a21f9e12451",
   "metadata": {},
   "outputs": [
    {
     "name": "stdin",
     "output_type": "stream",
     "text": [
      "Write a string fg\n"
     ]
    },
    {
     "name": "stdout",
     "output_type": "stream",
     "text": [
      "fg\n"
     ]
    }
   ],
   "source": [
    "b = str(input(\"Write a string\"))\n",
    "\n",
    "if len(b) < 3:\n",
    "    print(b)\n",
    "elif b[-3:] == 'ing':\n",
    "    print(\"Word is:\", b+'ly')\n",
    "else:\n",
    "    print(\"Word is:\",b+'in')"
   ]
  },
  {
   "cell_type": "markdown",
   "id": "029e52b8-9203-427f-b1e1-2a9aaa4da3ee",
   "metadata": {},
   "source": [
    "### 22) Write a Python function to reverses a string if its length is a multiple of 4. "
   ]
  },
  {
   "cell_type": "code",
   "execution_count": 82,
   "id": "77a990df-11e5-4764-bf9a-4bea08a31eeb",
   "metadata": {},
   "outputs": [
    {
     "name": "stdin",
     "output_type": "stream",
     "text": [
      "Enter string khan.j\n"
     ]
    },
    {
     "name": "stdout",
     "output_type": "stream",
     "text": [
      "khan.j\n"
     ]
    }
   ],
   "source": [
    "a = str(input(\"Enter string\"))\n",
    "if len(a) %4 != 0:\n",
    "    print(a)\n",
    "else:\n",
    "    print(a[::-1])"
   ]
  },
  {
   "cell_type": "markdown",
   "id": "45073546-16b0-44ab-ad54-20800cc7cf31",
   "metadata": {},
   "source": [
    "### 23) Write a Python program to get a string made of the first 2 and the last 2 chars from a given a string. If the string length is less than 2, return instead of the empty string. "
   ]
  },
  {
   "cell_type": "code",
   "execution_count": 88,
   "id": "dd6224d7-64ab-4e6c-92ed-b0f04a78fd1a",
   "metadata": {},
   "outputs": [
    {
     "name": "stdin",
     "output_type": "stream",
     "text": [
      "Enter string kj\n"
     ]
    },
    {
     "name": "stdout",
     "output_type": "stream",
     "text": [
      "\n"
     ]
    }
   ],
   "source": [
    "a = str(input(\"Enter string\"))\n",
    "if len(a) >= 3:\n",
    "    print(a[:2]+a[-2:])\n",
    "else:\n",
    "    print()"
   ]
  },
  {
   "cell_type": "code",
   "execution_count": null,
   "id": "f6725072-fa95-48e5-9f47-5c2c2f8da818",
   "metadata": {},
   "outputs": [],
   "source": []
  }
 ],
 "metadata": {
  "kernelspec": {
   "display_name": "Python 3 (ipykernel)",
   "language": "python",
   "name": "python3"
  },
  "language_info": {
   "codemirror_mode": {
    "name": "ipython",
    "version": 3
   },
   "file_extension": ".py",
   "mimetype": "text/x-python",
   "name": "python",
   "nbconvert_exporter": "python",
   "pygments_lexer": "ipython3",
   "version": "3.12.4"
  }
 },
 "nbformat": 4,
 "nbformat_minor": 5
}
