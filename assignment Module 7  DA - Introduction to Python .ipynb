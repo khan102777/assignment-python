{
 "cells": [
  {
   "cell_type": "markdown",
   "id": "9d95156e-145b-46d1-b26c-65915f671ecb",
   "metadata": {},
   "source": [
    "# Module 7 DA - Introduction to Python Assignment "
   ]
  },
  {
   "cell_type": "markdown",
   "id": "99780627-b736-4465-8e8c-54a111ef8553",
   "metadata": {},
   "source": [
    "### 1) What are the types of Applications? \n",
    "* Web Development: Using frameworks like Django and Flask.\n",
    "* Data Analysis and Visualization: Utilizing libraries like Pandas and Matplotlib.\n",
    "* Machine Learning and AI: Leveraging frameworks like TensorFlow and Scikit-learn.\n",
    "* Desktop GUI Applications: Creating interfaces with libraries like Tkinter and PyQt."
   ]
  },
  {
   "cell_type": "markdown",
   "id": "a7089f41-e008-498f-85b0-f241e3117e8e",
   "metadata": {},
   "source": [
    "### 2) What is programing? \n",
    "* Programming is the process of designing and building an executable set of instructions to enable a computer to perform specific tasks. It involves writing code in a programming language to create software applications, scripts, or other sets of instructions for a computer to follow. Here's a more detailed breakdown:"
   ]
  },
  {
   "cell_type": "markdown",
   "id": "de3fb3a5-8a78-44f0-a628-ab21c78b1b31",
   "metadata": {},
   "source": [
    "### 3) What is Python? \n",
    "* Python is a high-level, interpreted programming language known for its readability, simplicity, and versatility. It's widely used for web development, data analysis, artificial intelligence, scientific computing, and more. Its syntax is designed to be easy to understand and write, making it a popular choice for both beginners and experienced developers."
   ]
  },
  {
   "cell_type": "markdown",
   "id": "5d130bc1-c3e1-4cfc-9ba0-48f35cba5259",
   "metadata": {},
   "source": [
    "### 4) Write a Python program to check if a number is positive, negative or zero. "
   ]
  },
  {
   "cell_type": "code",
   "execution_count": 13,
   "id": "cf329bb1-8c2b-4301-bacf-f5969d2188ac",
   "metadata": {},
   "outputs": [
    {
     "name": "stdin",
     "output_type": "stream",
     "text": [
      "Enter number:  0\n"
     ]
    },
    {
     "name": "stdout",
     "output_type": "stream",
     "text": [
      "you numner is zero: \n"
     ]
    }
   ],
   "source": [
    "\n",
    "num = int(input(\"Enter number: \"))\n",
    "if num == 0:\n",
    "    print(\"you numner is zero: \")\n",
    "elif num < 0:\n",
    "    print(\"your number is negative\")\n",
    "else:\n",
    "    print(\"your numner is positive\")\n"
   ]
  },
  {
   "cell_type": "markdown",
   "id": "4b9ceeb4-fedd-482c-b775-2b1884a51e24",
   "metadata": {},
   "source": [
    "### 5)Write a Python program to get the Factorial number of given numbers. \n"
   ]
  },
  {
   "cell_type": "code",
   "execution_count": 25,
   "id": "786f314f-4d3f-4132-98ee-06f8d6dfd2c4",
   "metadata": {},
   "outputs": [
    {
     "name": "stdin",
     "output_type": "stream",
     "text": [
      "Enter your numner 5\n"
     ]
    },
    {
     "name": "stdout",
     "output_type": "stream",
     "text": [
      "factorial is : 24\n"
     ]
    }
   ],
   "source": [
    "n = int(input(\"Enter your numner\"))\n",
    "fact = 1\n",
    "\n",
    "for i in range(1,n+1):\n",
    "    fact *= i\n",
    "print(\"factorial is :\",fact)    \n"
   ]
  },
  {
   "cell_type": "markdown",
   "id": "7dfa5d7e-9d1c-42ce-a16c-2cd427f10537",
   "metadata": {},
   "source": [
    "### 6)Write a Python program to get the Fibonacci series of given range. "
   ]
  },
  {
   "cell_type": "code",
   "execution_count": 31,
   "id": "b5ee1f64-2c04-41d7-916d-0f5fdfbe73d5",
   "metadata": {},
   "outputs": [
    {
     "name": "stdin",
     "output_type": "stream",
     "text": [
      "Enter the number of terms for the Fibonacci series:  5\n"
     ]
    },
    {
     "name": "stdout",
     "output_type": "stream",
     "text": [
      "0,1,1,2,3,"
     ]
    }
   ],
   "source": [
    "n = int(input(\"Enter the number of terms for the Fibonacci series: \"))\n",
    "a = 0\n",
    "b = 1\n",
    "for i in range(n):\n",
    "    print(a, end=\",\")\n",
    "    a, b = b, a + b\n",
    "\n",
    "\n"
   ]
  },
  {
   "cell_type": "markdown",
   "id": "8be2ec99-1332-4dcf-be4d-15929940ddf8",
   "metadata": {},
   "source": [
    "### 7)How memory is managed in Python?\n",
    "* Python manages memory automatically using reference counting and garbage collection. It allocates memory dynamically and cleans up unused objects to prevent memory leaks. The `gc` module helps control and monitor garbage collection."
   ]
  },
  {
   "cell_type": "markdown",
   "id": "db6e61de-c68f-4af1-b658-376707f78dce",
   "metadata": {},
   "source": [
    "### 8)What is the purpose continuing statement in python?\n",
    "* The `continue` statement in Python is used to skip the rest of the current loop iteration and proceed to the next iteration. It is typically used to bypass certain conditions within loops, allowing the loop to continue executing without executing the remaining code for that iteration."
   ]
  },
  {
   "cell_type": "markdown",
   "id": "7e66a53b-401f-4b77-9d9e-3101579e28c0",
   "metadata": {},
   "source": [
    "### 9) Write python program that swap two number with temp variable and without temp variable. "
   ]
  },
  {
   "cell_type": "markdown",
   "id": "5b953396-da14-407c-bac9-5ce0540e38bb",
   "metadata": {},
   "source": [
    "#### Using a Temporary Variable"
   ]
  },
  {
   "cell_type": "code",
   "execution_count": 32,
   "id": "54c6d75a-d4e3-4b72-bd59-b9479691e22a",
   "metadata": {},
   "outputs": [
    {
     "name": "stdin",
     "output_type": "stream",
     "text": [
      "Enter the first number:  3\n",
      "Enter the second number:  4\n"
     ]
    },
    {
     "name": "stdout",
     "output_type": "stream",
     "text": [
      "After swapping (with temp variable):\n",
      "First number: 4\n",
      "Second number: 3\n"
     ]
    }
   ],
   "source": [
    "a = int(input(\"Enter the first number: \"))\n",
    "b = int(input(\"Enter the second number: \"))\n",
    "temp = a\n",
    "a = b\n",
    "b = temp\n",
    "\n",
    "print(\"After swapping (with temp variable):\")\n",
    "print(\"First number:\", a)\n",
    "print(\"Second number:\", b)\n"
   ]
  },
  {
   "cell_type": "markdown",
   "id": "cf93e821-a01a-4a62-b1f7-5b171c61cd6c",
   "metadata": {},
   "source": [
    "#### Without Using a Temporary Variable"
   ]
  },
  {
   "cell_type": "code",
   "execution_count": 33,
   "id": "9ad50fab-3c82-457e-8e20-3237bec5e75f",
   "metadata": {},
   "outputs": [
    {
     "name": "stdin",
     "output_type": "stream",
     "text": [
      "Enter the first number:  3\n",
      "Enter the second number:  4\n"
     ]
    },
    {
     "name": "stdout",
     "output_type": "stream",
     "text": [
      "After swapping (without temp variable):\n",
      "First number: 4\n",
      "Second number: 3\n"
     ]
    }
   ],
   "source": [
    "a = int(input(\"Enter the first number: \"))\n",
    "b = int(input(\"Enter the second number: \"))\n",
    "\n",
    "a, b = b, a\n",
    "print(\"After swapping (without temp variable):\")\n",
    "print(\"First number:\", a)\n",
    "print(\"Second number:\", b)\n"
   ]
  },
  {
   "cell_type": "markdown",
   "id": "1a3107bc-fd2a-437e-b9ec-1290f9d1e147",
   "metadata": {},
   "source": [
    "### 10) Write a Python program to find whether a given number is even or odd, print out an appropriate message to the user. \n"
   ]
  },
  {
   "cell_type": "code",
   "execution_count": 35,
   "id": "10bdeeb6-86e1-4947-ada1-f1c6a5d95bfb",
   "metadata": {},
   "outputs": [
    {
     "name": "stdin",
     "output_type": "stream",
     "text": [
      "Enter your number: 3\n"
     ]
    },
    {
     "name": "stdout",
     "output_type": "stream",
     "text": [
      "your number is odd\n"
     ]
    }
   ],
   "source": [
    "n = int(input(\"Enter your number:\"))\n",
    "if n %2 == 0:\n",
    "    print(\"your number is even\")\n",
    "else:\n",
    "    print(\"your number is odd\")"
   ]
  },
  {
   "cell_type": "markdown",
   "id": "f7284da9-c944-48af-b2b0-b962d9ac4d68",
   "metadata": {},
   "source": [
    "### 11) Write a Python program to test whether a passed letter is a vowel or not. "
   ]
  },
  {
   "cell_type": "code",
   "execution_count": 42,
   "id": "9a1917c8-c317-4685-99bb-d21128353c7d",
   "metadata": {},
   "outputs": [
    {
     "name": "stdin",
     "output_type": "stream",
     "text": [
      "write a letter o\n"
     ]
    },
    {
     "name": "stdout",
     "output_type": "stream",
     "text": [
      "letter is a vowel\n"
     ]
    }
   ],
   "source": [
    "x = str(input(\"write a letter\"))\n",
    "if x == \"a\":\n",
    "    print(\"letter is a vowel\")\n",
    "elif x == \"e\":\n",
    "    print(\"letter is a vowel\")\n",
    "elif x == \"i\":\n",
    "    print(\"letter is a vowel\")\n",
    "elif x == \"o\":\n",
    "    print(\"letter is a vowel\")\n",
    "elif x == \"u\":\n",
    "    print(\"letter is a vowel\")\n",
    "else:\n",
    "    print(\"letter is not vowel\")"
   ]
  },
  {
   "cell_type": "markdown",
   "id": "65841a89-d3cb-4d25-aaf5-542bbc4a035a",
   "metadata": {},
   "source": [
    "### 12) Write a Python program to sum of three given integers. However, if two values are equal sum will be zero. "
   ]
  },
  {
   "cell_type": "code",
   "execution_count": 45,
   "id": "1adc3e65-13b7-4043-8687-d5b5a6541b13",
   "metadata": {},
   "outputs": [
    {
     "name": "stdin",
     "output_type": "stream",
     "text": [
      "enter number1 1\n",
      "enter number2 1\n",
      "enter number3 2\n"
     ]
    },
    {
     "name": "stdout",
     "output_type": "stream",
     "text": [
      "0\n"
     ]
    }
   ],
   "source": [
    "a = int(input(\"enter number1\"))\n",
    "b = int(input(\"enter number2\"))\n",
    "c = int(input(\"enter number3\"))\n",
    "sum = a + b + c\n",
    "if a != b and a != c and b != c:\n",
    "    print(sum)\n",
    "else:\n",
    "    print(\"0\")\n",
    "    "
   ]
  },
  {
   "cell_type": "markdown",
   "id": "3d50e101-8295-47c1-9bfc-a84025f5dfb5",
   "metadata": {},
   "source": [
    "### 13) Write a Python program that will return true if the two given integer values are equal or their sum or difference is 5. \n"
   ]
  },
  {
   "cell_type": "code",
   "execution_count": 48,
   "id": "e219ce68-0790-4482-aa36-432710d3f8f2",
   "metadata": {},
   "outputs": [
    {
     "name": "stdin",
     "output_type": "stream",
     "text": [
      "Enter number1 4\n",
      "Enter number2 7\n"
     ]
    },
    {
     "name": "stdout",
     "output_type": "stream",
     "text": [
      "false\n"
     ]
    }
   ],
   "source": [
    "a = int(input(\"Enter number1\"))\n",
    "b = int(input(\"Enter number2\"))\n",
    "if a == b or a - b == 5 or a+b == 5:\n",
    "    print(\"True\")\n",
    "else:\n",
    "    print(\"false\")"
   ]
  },
  {
   "cell_type": "markdown",
   "id": "2b9702b5-44d9-46d7-a1c8-79821108c0ed",
   "metadata": {},
   "source": [
    "### 14)Write a python program to sum of the first n positive integers. "
   ]
  },
  {
   "cell_type": "code",
   "execution_count": 57,
   "id": "21dbe5de-b8c5-489f-9164-b034139e2e9a",
   "metadata": {},
   "outputs": [
    {
     "name": "stdin",
     "output_type": "stream",
     "text": [
      "Enter number 100\n"
     ]
    },
    {
     "name": "stdout",
     "output_type": "stream",
     "text": [
      "sum is:  5050\n"
     ]
    }
   ],
   "source": [
    "n = int(input(\"Enter number\"))\n",
    "sum=0\n",
    "for i in range(n+1):\n",
    "    sum +=i\n",
    "print(\"sum is: \",sum)"
   ]
  },
  {
   "cell_type": "markdown",
   "id": "60b71000-edfa-49a5-92e2-0a3ee4c839b1",
   "metadata": {},
   "source": [
    "### 15)Write a Python program to calculate the length of a string. \n"
   ]
  },
  {
   "cell_type": "code",
   "execution_count": 59,
   "id": "21ddc5c7-bae2-426a-809f-540d861b9cba",
   "metadata": {},
   "outputs": [
    {
     "name": "stdin",
     "output_type": "stream",
     "text": [
      "Enter your name khan.j.h\n"
     ]
    },
    {
     "name": "stdout",
     "output_type": "stream",
     "text": [
      "8\n"
     ]
    }
   ],
   "source": [
    "abc = str(input(\"Enter your name\"))\n",
    "print(len(abc))"
   ]
  },
  {
   "cell_type": "markdown",
   "id": "1826db84-2dd3-46f9-be89-1fd7db8da14a",
   "metadata": {},
   "source": [
    "### 16) Write a Python program to count the number of characters(character frequency) in a string "
   ]
  },
  {
   "cell_type": "code",
   "execution_count": 5,
   "id": "7db04d64-9e68-4c66-896c-2676fc8aeec0",
   "metadata": {},
   "outputs": [
    {
     "name": "stdin",
     "output_type": "stream",
     "text": [
      "Enter string:  jaanmohammad\n"
     ]
    },
    {
     "name": "stdout",
     "output_type": "stream",
     "text": [
      "'j': 1\n",
      "'a': 4\n",
      "'n': 1\n",
      "'m': 3\n",
      "'o': 1\n",
      "'h': 1\n",
      "'d': 1\n"
     ]
    }
   ],
   "source": [
    "string = str(input(\"Enter string: \"))\n",
    "frequency = {}\n",
    "\n",
    "for i in string:\n",
    "    if i in frequency:\n",
    "        frequency[i] += 1\n",
    "    else:\n",
    "        frequency[i] = 1\n",
    "\n",
    "for i, frequency in frequency.items():\n",
    "    print(f\"'{i}': {frequency}\")\n"
   ]
  },
  {
   "cell_type": "markdown",
   "id": "d0c1b93a-98c6-449d-9aa8-b686c0fc1821",
   "metadata": {},
   "source": [
    "### 17)What are negative indexes and why are they used? \n",
    "* Negative indexes in Python allow access to elements from the end of a sequence. They provide a convenient and readable way to refer to elements without calculating their positive index. For example, `-1` refers to the last element, `-2` to the second last, and so on."
   ]
  },
  {
   "cell_type": "markdown",
   "id": "0715ffab-bda0-45b6-9649-67f9ddf2bcf9",
   "metadata": {},
   "source": [
    "### 18)Write a Python program to count occurrences of a substring in a string. "
   ]
  },
  {
   "cell_type": "code",
   "execution_count": 65,
   "id": "80439a65-a098-417b-8aff-1b3ef1ffda57",
   "metadata": {},
   "outputs": [
    {
     "name": "stdin",
     "output_type": "stream",
     "text": [
      "Enter the main string:  kjhjfgfrsatsgvuyg\n",
      "Enter the substring:  j\n"
     ]
    },
    {
     "name": "stdout",
     "output_type": "stream",
     "text": [
      "The substring ( j ) occurs ( 2 ) times in the main string.\n"
     ]
    }
   ],
   "source": [
    "main_string = input(\"Enter the main string: \")\n",
    "substring = input(\"Enter the substring: \")\n",
    "\n",
    "count = main_string.count(substring)\n",
    "\n",
    "print(\"The substring (\", substring, \") occurs (\", count, \") times in the main string.\")\n"
   ]
  },
  {
   "cell_type": "markdown",
   "id": "30c2dd69-3f25-4f0a-b345-39d5b3ac069c",
   "metadata": {},
   "source": [
    "### 19) Write a Python program to count the occurrences of each word in a given sentence "
   ]
  },
  {
   "cell_type": "code",
   "execution_count": 10,
   "id": "ddeac7d7-adfd-48ee-bca3-2410a5f39452",
   "metadata": {},
   "outputs": [
    {
     "name": "stdin",
     "output_type": "stream",
     "text": [
      "Enter sentence:  lkl uy hj yh uy yg  uyfyf jh jh jh jh\n"
     ]
    },
    {
     "name": "stdout",
     "output_type": "stream",
     "text": [
      "'lkl': 1\n",
      "'uy': 2\n",
      "'hj': 1\n",
      "'yh': 1\n",
      "'yg': 1\n",
      "'uyfyf': 1\n",
      "'jh': 4\n"
     ]
    }
   ],
   "source": [
    "sentence = input(str(\"Enter sentence: \"))\n",
    "\n",
    "\n",
    "words = sentence.split()\n",
    "\n",
    "word_frequency = {}\n",
    "\n",
    "for word in words:\n",
    "    if word in word_frequency:\n",
    "        word_frequency[word] += 1\n",
    "    else:\n",
    "        word_frequency[word] = 1\n",
    "\n",
    "for word, frequency in word_frequency.items():\n",
    "    print(f\"'{word}': {frequency}\")\n"
   ]
  },
  {
   "cell_type": "markdown",
   "id": "061fcfec-d4e9-4634-8fbd-5db37adb56ba",
   "metadata": {},
   "source": [
    "### 20) Write a Python program to get a single string from two given strings, separated by a space and swap the first two characters of each string. \n"
   ]
  },
  {
   "cell_type": "code",
   "execution_count": 68,
   "id": "7e447b86-c936-4bc1-9d60-5f1f11fcb0ac",
   "metadata": {},
   "outputs": [
    {
     "name": "stdin",
     "output_type": "stream",
     "text": [
      "Enter string khan\n",
      "Enter string jaan\n"
     ]
    },
    {
     "name": "stdout",
     "output_type": "stream",
     "text": [
      "jaan khan\n"
     ]
    }
   ],
   "source": [
    "a = str(input(\"Enter string\"))\n",
    "b = str(input(\"Enter string\"))\n",
    "print(b[0:2]+a[2:],a[0:2]+b[2:],sep=\" \")"
   ]
  },
  {
   "cell_type": "markdown",
   "id": "5d1855f6-c816-4498-a059-8252d7803da3",
   "metadata": {},
   "source": [
    "### 21) Write a Python program to add 'in' at the end of a given string (length should be at least 3). If the given string already ends with 'ing' then add 'ly' instead if the string length of the given string is less than 3, leave it unchanged. \n"
   ]
  },
  {
   "cell_type": "code",
   "execution_count": 80,
   "id": "e57a4c84-dac0-4f0f-a020-2a21f9e12451",
   "metadata": {},
   "outputs": [
    {
     "name": "stdin",
     "output_type": "stream",
     "text": [
      "Write a string fg\n"
     ]
    },
    {
     "name": "stdout",
     "output_type": "stream",
     "text": [
      "fg\n"
     ]
    }
   ],
   "source": [
    "b = str(input(\"Write a string\"))\n",
    "\n",
    "if len(b) < 3:\n",
    "    print(b)\n",
    "elif b[-3:] == 'ing':\n",
    "    print(\"Word is:\", b+'ly')\n",
    "else:\n",
    "    print(\"Word is:\",b+'in')"
   ]
  },
  {
   "cell_type": "markdown",
   "id": "029e52b8-9203-427f-b1e1-2a9aaa4da3ee",
   "metadata": {},
   "source": [
    "### 22) Write a Python function to reverses a string if its length is a multiple of 4. "
   ]
  },
  {
   "cell_type": "code",
   "execution_count": 82,
   "id": "77a990df-11e5-4764-bf9a-4bea08a31eeb",
   "metadata": {},
   "outputs": [
    {
     "name": "stdin",
     "output_type": "stream",
     "text": [
      "Enter string khan.j\n"
     ]
    },
    {
     "name": "stdout",
     "output_type": "stream",
     "text": [
      "khan.j\n"
     ]
    }
   ],
   "source": [
    "a = str(input(\"Enter string\"))\n",
    "if len(a) %4 != 0:\n",
    "    print(a)\n",
    "else:\n",
    "    print(a[::-1])"
   ]
  },
  {
   "cell_type": "markdown",
   "id": "45073546-16b0-44ab-ad54-20800cc7cf31",
   "metadata": {},
   "source": [
    "### 23) Write a Python program to get a string made of the first 2 and the last 2 chars from a given a string. If the string length is less than 2, return instead of the empty string. "
   ]
  },
  {
   "cell_type": "code",
   "execution_count": 91,
   "id": "dd6224d7-64ab-4e6c-92ed-b0f04a78fd1a",
   "metadata": {},
   "outputs": [
    {
     "name": "stdin",
     "output_type": "stream",
     "text": [
      "Enter string ab\n"
     ]
    },
    {
     "name": "stdout",
     "output_type": "stream",
     "text": [
      "abab\n"
     ]
    }
   ],
   "source": [
    "a = str(input(\"Enter string\"))\n",
    "if len(a) >= 2:\n",
    "    print(a[:2]+a[-2:])\n",
    "else:\n",
    "    print()"
   ]
  },
  {
   "cell_type": "markdown",
   "id": "782dccfa-c61e-46c1-9209-cfc4b72b1dc5",
   "metadata": {},
   "source": [
    "### 24)Write a Python function to insert a string in the middle of a string. "
   ]
  },
  {
   "cell_type": "code",
   "execution_count": 105,
   "id": "16f68fea-a900-422b-a093-3051595ed451",
   "metadata": {},
   "outputs": [
    {
     "name": "stdin",
     "output_type": "stream",
     "text": [
      "Enter string kjkjkj\n",
      "Enter string lklk\n"
     ]
    },
    {
     "name": "stdout",
     "output_type": "stream",
     "text": [
      "kjk lklkjkj\n"
     ]
    }
   ],
   "source": [
    "a = str(input(\"Enter string\"))\n",
    "b = str(input(\"Enter string\"))\n",
    "print(a[:(len(a)//2)] + \" \" + b + a[(len(a)//2):])\n",
    "\n"
   ]
  },
  {
   "cell_type": "markdown",
   "id": "650faed2-3f63-44cd-92cd-60164e6e5385",
   "metadata": {},
   "source": [
    "### 25)What is List? How will you reverse a list?\n",
    "* A list in Python is an ordered, mutable collection of items that can hold elements of different types (e.g., integers, strings, other lists).\n",
    "* string[::-1]"
   ]
  },
  {
   "cell_type": "markdown",
   "id": "5b2bfaef-acfa-4b82-88f4-a15500bbcdc7",
   "metadata": {},
   "source": [
    "### 26)How will you remove last object from a list? \n",
    "* list.pop()"
   ]
  },
  {
   "cell_type": "markdown",
   "id": "9e7983c7-84c7-42c2-9681-d919201d503a",
   "metadata": {},
   "source": [
    "### 27)Suppose list1 is [2, 33, 222, 14, 25], what is list1 [-1]?\n",
    "* [-1] =  25"
   ]
  },
  {
   "cell_type": "markdown",
   "id": "88c361af-8a08-4b91-82ae-261d7f23edd6",
   "metadata": {},
   "source": [
    "### 28)Differentiate between append () and extend () methods? "
   ]
  },
  {
   "cell_type": "markdown",
   "id": "fdb1ec73-16d2-4809-99fe-efe52329e768",
   "metadata": {},
   "source": [
    "### append()\n",
    "* Purpose: Adds a single element to the end of the list.\n",
    "* Argument: Takes one argument, which can be any data type (an element, another list, etc.).\n",
    "* Behavior: The entire argument is added as a single element at the end of the list.\n",
    "\n",
    "list1 = [1, 2, 3]\r\n",
    "list1.append(4)\r\n",
    "print(list1)  # Output: [1, 2, 3, 4]\r\n",
    "\r\n",
    "list1.append([5, 6])\r\n",
    "print(list1)  # Output: [1, 2, 3, 4, [5\n",
    "\n",
    "### extend()\n",
    "* Purpose: Adds elements of an iterable (like a list, tuple, or set) to the end of the list.\n",
    "* Argument: Takes one argument, which must be an iterable.\n",
    "* Behavior: Each element of the iterable is added individually to the end of the list.\n",
    "\n",
    "\n",
    "list1 = [1, 2, 3]\r\n",
    "list1.extend([4, 5])\r\n",
    "print(list1)  # Output: [1, 2, 3, 4, 5]\r\n",
    "\r\n",
    "list1.extend((6, 7))\r\n",
    "print(list1)  # Output: [1, 2, 3, 4, 5, 6, 7]\r\n"
   ]
  },
  {
   "cell_type": "markdown",
   "id": "0477c90f-b924-436a-8d4b-8d4f79dc6988",
   "metadata": {},
   "source": [
    "### 29) Write a Python function to get the largest number, smallest num and sum of all from a list. "
   ]
  },
  {
   "cell_type": "code",
   "execution_count": 4,
   "id": "7d081630-821d-479f-a26a-3aeb12a55309",
   "metadata": {},
   "outputs": [
    {
     "name": "stdout",
     "output_type": "stream",
     "text": [
      "9\n",
      "1\n",
      "45\n"
     ]
    }
   ],
   "source": [
    "a = [1,2,3,4,5,6,7,8,9]\n",
    "print(max(a))\n",
    "print(min(a))\n",
    "print(sum(a))"
   ]
  },
  {
   "cell_type": "markdown",
   "id": "a778d441-40e7-4576-a12a-8bd7a79187f4",
   "metadata": {},
   "source": [
    "### 30)How will you compare two lists?"
   ]
  },
  {
   "cell_type": "code",
   "execution_count": 4,
   "id": "034872b8-e878-4794-8ae0-bb67a2f11704",
   "metadata": {},
   "outputs": [
    {
     "name": "stdout",
     "output_type": "stream",
     "text": [
      "True\n"
     ]
    }
   ],
   "source": [
    "list1 = [1, 2, 3, 4]\n",
    "list2 = [1, 2, 3, 4]\n",
    "\n",
    "equal = list1 == list2\n",
    "print(equal)"
   ]
  },
  {
   "cell_type": "markdown",
   "id": "993529be-629e-4b61-869b-8a5853a7146b",
   "metadata": {},
   "source": [
    "### 31) Write a Python program to count the number of strings where the string length is 2 or more and the first and last character are same from a given list of strings. \n"
   ]
  },
  {
   "cell_type": "code",
   "execution_count": 1,
   "id": "68bc976b-35b6-4d4c-971f-56369276c1cb",
   "metadata": {},
   "outputs": [
    {
     "name": "stdin",
     "output_type": "stream",
     "text": [
      "Enter your string abcbca\n"
     ]
    },
    {
     "name": "stdout",
     "output_type": "stream",
     "text": [
      "6\n"
     ]
    }
   ],
   "source": [
    "a = str(input(\"Enter your string\"))\n",
    "\n",
    "if len(a) >= 2 and a[0] == a[-1]:\n",
    "    print(len(a))\n",
    "else:\n",
    "    print(\"Write correct string\")"
   ]
  },
  {
   "cell_type": "markdown",
   "id": "b185fcb1-6e95-470e-b126-25273dc4ed7f",
   "metadata": {},
   "source": [
    "### 32)Write a Python program to remove duplicates from a list. \n"
   ]
  },
  {
   "cell_type": "code",
   "execution_count": 5,
   "id": "0bd9e008-43ab-42e6-a059-7432f6dbb876",
   "metadata": {},
   "outputs": [
    {
     "name": "stdout",
     "output_type": "stream",
     "text": [
      "[1, 1, 2, 2, 3, 3, 4, 4, 5]\n",
      "{1, 2, 3, 4, 5}\n",
      "{1, 2, 3, 4, 5}\n"
     ]
    }
   ],
   "source": [
    "a = [1,1,2,2,3,3,4,4,5]\n",
    "print(a)\n",
    "b = set(a)\n",
    "print(b)\n",
    "a = b\n",
    "print(a)"
   ]
  },
  {
   "cell_type": "markdown",
   "id": "7c985dd9-17b8-44e7-9309-5db233f78be5",
   "metadata": {},
   "source": [
    "### 33)Write a Python program to check a list is empty or not. "
   ]
  },
  {
   "cell_type": "code",
   "execution_count": 7,
   "id": "a46be9c6-b635-4079-afad-063d79aa943a",
   "metadata": {},
   "outputs": [
    {
     "name": "stdout",
     "output_type": "stream",
     "text": [
      "list is Empty\n"
     ]
    }
   ],
   "source": [
    "a = [1]\n",
    "b = []\n",
    "if len(b) == 0:\n",
    "    print(\"list is Empty\")\n",
    "else:\n",
    "    print(\"list is not Empty\")\n",
    "\n"
   ]
  },
  {
   "cell_type": "markdown",
   "id": "47c1e8c5-5841-46c0-ad0d-90312e2d6551",
   "metadata": {},
   "source": [
    "### 34) Write a Python function that takes two lists and returns true if they have at least one common member. \n"
   ]
  },
  {
   "cell_type": "code",
   "execution_count": 14,
   "id": "8a4e5986-93af-4c06-8502-42d54646162d",
   "metadata": {},
   "outputs": [
    {
     "name": "stdout",
     "output_type": "stream",
     "text": [
      "true\n",
      "{1, 2, 3}\n"
     ]
    }
   ],
   "source": [
    "a = [1,2,3]\n",
    "b = [1,2,3,4,5,6]\n",
    "if len(set(a).intersection(set(b))) == 0:\n",
    "    print(\"false\")\n",
    "else:\n",
    "    print(\"true\")\n"
   ]
  },
  {
   "cell_type": "markdown",
   "id": "42e04134-4a21-431c-bc31-3d0005061b2a",
   "metadata": {},
   "source": [
    "### 35) Write a Python program to generate and print a list of first and last 5 elements where the values are square of numbers between 1 and 30."
   ]
  },
  {
   "cell_type": "code",
   "execution_count": 15,
   "id": "cb91b7e1-e010-4393-8451-46798737ff78",
   "metadata": {},
   "outputs": [
    {
     "name": "stdout",
     "output_type": "stream",
     "text": [
      "[1, 4, 9, 16, 25, 36, 49, 64, 81, 100, 121, 144, 169, 196, 225, 256, 289, 324, 361, 400, 441, 484, 529, 576, 625, 676, 729, 784, 841, 900]\n",
      "[1, 4, 9, 16, 25, 676, 729, 784, 841, 900]\n"
     ]
    }
   ],
   "source": [
    "x = [a**2 for a in range(1,31)]\n",
    "print(x)\n",
    "print(x[0:5] + x[-5:])"
   ]
  },
  {
   "cell_type": "markdown",
   "id": "6578c7f6-0c9c-45fa-8ad2-ecfce11d596f",
   "metadata": {},
   "source": [
    "### 36) Write a Python function that takes a list and returns a new list with unique elements of the first list. \n"
   ]
  },
  {
   "cell_type": "code",
   "execution_count": 45,
   "id": "242f870a-5b3e-4188-892e-60b25ddacba6",
   "metadata": {},
   "outputs": [
    {
     "name": "stdin",
     "output_type": "stream",
     "text": [
      "Enter 989898\n"
     ]
    },
    {
     "name": "stdout",
     "output_type": "stream",
     "text": [
      "989898\n",
      "['9', '8']\n"
     ]
    }
   ],
   "source": [
    "a = input(\"Enter\")\n",
    "print(a)\n",
    "b = set(a)\n",
    "a = list(b)\n",
    "print(a)"
   ]
  },
  {
   "cell_type": "markdown",
   "id": "501cadb3-cdb6-496d-9ca5-f69f3923eee1",
   "metadata": {},
   "source": [
    "### 37)Write a Python program to convert a list of characters into a string. "
   ]
  },
  {
   "cell_type": "code",
   "execution_count": 53,
   "id": "3740e546-2877-46d4-9fd2-1c2894bf7a9c",
   "metadata": {},
   "outputs": [
    {
     "name": "stdout",
     "output_type": "stream",
     "text": [
      "['k', 'h', 'a', 'n']\n",
      "khan\n"
     ]
    }
   ],
   "source": [
    "a = ['k','h','a','n']\n",
    "print(a)\n",
    "b =''.join(a)\n",
    "a = b\n",
    "print(a)"
   ]
  },
  {
   "cell_type": "markdown",
   "id": "58f1ba24-c4b3-435e-a9a8-8889c1f823dd",
   "metadata": {},
   "source": [
    "### 38)Write a Python program to select an item randomly from a list. "
   ]
  },
  {
   "cell_type": "code",
   "execution_count": 8,
   "id": "06e59440-6da3-4ae3-a33c-c4a783392df4",
   "metadata": {},
   "outputs": [
    {
     "name": "stdin",
     "output_type": "stream",
     "text": [
      "Enter list 122345\n"
     ]
    },
    {
     "name": "stdout",
     "output_type": "stream",
     "text": [
      "['1', '2', '2', '3', '4', '5']\n",
      "2\n"
     ]
    }
   ],
   "source": [
    "import random\n",
    "a = list(input(\"Enter list\"))\n",
    "print(a)\n",
    "b = random.choice(a)\n",
    "print(b)"
   ]
  },
  {
   "cell_type": "markdown",
   "id": "bc2d29c2-03b1-44a3-a22e-6de65c07d11f",
   "metadata": {},
   "source": [
    "### 39)Write a Python program to find the second smallest number in a list. "
   ]
  },
  {
   "cell_type": "code",
   "execution_count": 8,
   "id": "a45f98f0-23d3-4bc2-82d3-a981bcee3311",
   "metadata": {},
   "outputs": [
    {
     "name": "stdout",
     "output_type": "stream",
     "text": [
      "Second smallest number is:  2\n"
     ]
    }
   ],
   "source": [
    "a = [1,2,3,4,5,6,7,8,9]\n",
    "a.sort()\n",
    "b = a[1]\n",
    "print(\"Second smallest number is: \",b)\n"
   ]
  },
  {
   "cell_type": "markdown",
   "id": "41e125b3-3e21-4f3b-a344-28ccd0bab9c2",
   "metadata": {},
   "source": [
    "### 40)Write a Python program to get unique values from a list "
   ]
  },
  {
   "cell_type": "code",
   "execution_count": 9,
   "id": "1faa4929-24dc-47a3-a3c2-cf5a95565556",
   "metadata": {},
   "outputs": [
    {
     "name": "stdout",
     "output_type": "stream",
     "text": [
      "{1, 2, 34, 4, 5, 6, 7, 543}\n"
     ]
    }
   ],
   "source": [
    "a = [1,2,34,1,2,4,5,6,7,6,5,7,4,543]\n",
    "b = set(a)\n",
    "print(b)"
   ]
  },
  {
   "cell_type": "markdown",
   "id": "475c8c19-0dd8-4938-a2c2-d3fe4133d1a7",
   "metadata": {},
   "source": [
    "### 41)Write a Python program to check whether a list contains a sub list "
   ]
  },
  {
   "cell_type": "code",
   "execution_count": 31,
   "id": "b2924481-a32f-484e-b5e6-f61564f88f13",
   "metadata": {},
   "outputs": [
    {
     "name": "stdout",
     "output_type": "stream",
     "text": [
      "not sub\n"
     ]
    }
   ],
   "source": [
    "a=[1,2,3,4,5]\n",
    "b=[3,6]\n",
    "for i in b:\n",
    "    if i not in a:\n",
    "        print(\"not sub\")\n",
    "        break\n",
    "else:\n",
    "    print(\"sub\")"
   ]
  },
  {
   "cell_type": "markdown",
   "id": "1ea75f0e-22a6-4648-a148-7bbdb71f47db",
   "metadata": {},
   "source": [
    "### 42)Write a Python program to split a list into different variables. \n"
   ]
  },
  {
   "cell_type": "code",
   "execution_count": 32,
   "id": "d4520f98-b340-4217-befc-038807eaff6e",
   "metadata": {},
   "outputs": [
    {
     "name": "stdout",
     "output_type": "stream",
     "text": [
      "a: 1\n",
      "b: 2\n",
      "c: 3\n",
      "d: 4\n"
     ]
    }
   ],
   "source": [
    "my_list = [1, 2, 3, 4]\n",
    "\n",
    "a, b, c, d = my_list\n",
    "\n",
    "print(\"a:\", a)\n",
    "print(\"b:\", b)\n",
    "print(\"c:\", c)\n",
    "print(\"d:\", d)"
   ]
  },
  {
   "cell_type": "markdown",
   "id": "721ed89a-e030-4fbb-a7fd-3dfcfb5ca82c",
   "metadata": {},
   "source": [
    "### 43)What is tuple? Difference between list and tuple. \n",
    "#### A **tuple** is an immutable, ordered collection of elements in Python. Once created, the elements in a tuple cannot be changed.\n",
    "\n",
    "* ##### Difference between List and Tuple:\n",
    "\n",
    "* - **Mutability**: Lists are mutable (can be changed), while tuples are immutable (cannot be changed).\n",
    "* - **Syntax**: Lists are created using square brackets `[]`, whereas tuples are created using parentheses `()`.\n",
    "* - **Performance**: Tuples are generally faster than lists because of their immutability.\n",
    "* - **Use Case**: Lists are used when data needs to change over time, while tuples are used for fixed data."
   ]
  },
  {
   "cell_type": "markdown",
   "id": "f38fdbab-d678-4123-8815-7275587ddfa5",
   "metadata": {},
   "source": [
    "### 44)Write a Python program to create a tuple with different data types. \n"
   ]
  },
  {
   "cell_type": "code",
   "execution_count": 45,
   "id": "a144edb1-0c3d-4478-9304-f15821051470",
   "metadata": {},
   "outputs": [
    {
     "name": "stdin",
     "output_type": "stream",
     "text": [
      "Enter tuple: {1,2.3,'hi'}\n"
     ]
    },
    {
     "data": {
      "text/plain": [
       "set"
      ]
     },
     "execution_count": 45,
     "metadata": {},
     "output_type": "execute_result"
    }
   ],
   "source": [
    "a = eval(input(\"Enter tuple:\"))\n",
    "type(a)"
   ]
  },
  {
   "cell_type": "markdown",
   "id": "ff8bd548-e8ee-4451-b8a5-d5436f00a36c",
   "metadata": {},
   "source": [
    "### 45)Write a Python program to unzip a list of tuples into individual lists."
   ]
  },
  {
   "cell_type": "code",
   "execution_count": 48,
   "id": "4376c744-af86-413c-ab61-dde74f959ec0",
   "metadata": {},
   "outputs": [
    {
     "name": "stdout",
     "output_type": "stream",
     "text": [
      "List 1: [1, 3, 5, 7]\n",
      "List 2: [2, 4, 6, 8]\n"
     ]
    }
   ],
   "source": [
    "# List of tuples\n",
    "tuples_list = [(1, 2), (3, 4), (5, 6), (7, 8)]\n",
    "\n",
    "# Unzipping the list of tuples into individual lists\n",
    "list1, list2 = zip(*tuples_list)\n",
    "\n",
    "# Converting the result back into lists (optional)\n",
    "list1 = list(list1)\n",
    "list2 = list(list2)\n",
    "\n",
    "# Display the unzipped lists\n",
    "print(\"List 1:\", list1)\n",
    "print(\"List 2:\", list2)\n"
   ]
  },
  {
   "cell_type": "markdown",
   "id": "8c4a6162-997e-44fb-aea2-1acc92a6bed1",
   "metadata": {},
   "source": [
    "### 46)Write a Python program to convert a list of tuples into a dictionary. "
   ]
  },
  {
   "cell_type": "code",
   "execution_count": 49,
   "id": "7559f1e7-8f01-4eb2-918b-625fd17c912d",
   "metadata": {},
   "outputs": [
    {
     "name": "stdout",
     "output_type": "stream",
     "text": [
      "{'a': 1, 'b': 2, 'c': 3, 'd': 4}\n"
     ]
    }
   ],
   "source": [
    "list_of_tuple = [(\"a\", 1),(\"b\", 2),(\"c\", 3),(\"d\", 4)]\n",
    "\n",
    "dict = dict(list_of_tuple)\n",
    "print(dict)"
   ]
  },
  {
   "cell_type": "markdown",
   "id": "8d55f3f7-9807-4445-80d9-76d443be0fa4",
   "metadata": {},
   "source": [
    "### 47)How will you create a dictionary using tuples in python? \n",
    " Explanation:\n",
    "* List of Tuples: Each tuple in the list should have exactly two elements: the first element is the key and the second is the value.\n",
    "* Using dict(): This built-in function takes an iterable of key-value pairs (tuples) and constructs a dictionary.\n",
    "* Using Dictionary Comprehension: This method provides a more flexible way to create a dictionary, which can be useful if you need to apply transformations or filters during dictionary creation."
   ]
  },
  {
   "cell_type": "markdown",
   "id": "c5edc691-b0c0-42cd-9f22-66489d6310ab",
   "metadata": {},
   "source": [
    "### 48)Write a Python script to sort (ascending and descending) a dictionary by value."
   ]
  },
  {
   "cell_type": "code",
   "execution_count": 58,
   "id": "7551ddff-d97a-475e-9526-4508cb6d26fd",
   "metadata": {},
   "outputs": [
    {
     "name": "stdout",
     "output_type": "stream",
     "text": [
      "[('banana', 2), ('date', 3), ('apple', 5), ('cherry', 7)]\n"
     ]
    }
   ],
   "source": [
    "ab = {'apple': 5, 'banana': 2, 'cherry': 7, 'date': 3}\n",
    "\n",
    "sorted_ab = sorted(ab.items(), key=lambda item: item[1])\n",
    "\n",
    "print(sorted_ab)\n"
   ]
  },
  {
   "cell_type": "markdown",
   "id": "635192e3-90b4-430a-9efa-e784a5b4eb71",
   "metadata": {},
   "source": [
    "### 49)Write a Python script to concatenate following dictionaries to create a new one. \n"
   ]
  },
  {
   "cell_type": "code",
   "execution_count": 59,
   "id": "b36c7a92-dfe4-45e6-a144-7993cb5d281e",
   "metadata": {},
   "outputs": [
    {
     "name": "stdout",
     "output_type": "stream",
     "text": [
      "Concatenated Dictionary: {'a': 1, 'b': 2, 'c': 3, 'd': 4, 'e': 5, 'f': 6}\n"
     ]
    }
   ],
   "source": [
    "dict1 = {'a': 1, 'b': 2}\n",
    "dict2 = {'c': 3, 'd': 4}\n",
    "dict3 = {'e': 5, 'f': 6}\n",
    "\n",
    "new_dict = {}\n",
    "new_dict.update(dict1)\n",
    "new_dict.update(dict2)\n",
    "new_dict.update(dict3)\n",
    "\n",
    "print(\"Concatenated Dictionary:\", new_dict)\n"
   ]
  },
  {
   "cell_type": "markdown",
   "id": "463d88c9-8471-4036-af6e-fa3d4fd8cc56",
   "metadata": {},
   "source": [
    "### 50)Write a Python script to check if a given key already exists in a dictionary. "
   ]
  },
  {
   "cell_type": "code",
   "execution_count": 69,
   "id": "53cd19dd-2e7f-4c80-8a1b-97ebaf494422",
   "metadata": {},
   "outputs": [
    {
     "name": "stdout",
     "output_type": "stream",
     "text": [
      "yes\n"
     ]
    }
   ],
   "source": [
    "d1 = {'a': 1, 'b': 2, 'c': 3, 'd': 4, 'e': 5, 'f': 6}\n",
    "d2 = 'a'\n",
    "if d2 in d1:\n",
    "        print(\"yes\")\n",
    "else:\n",
    "    print(\"No\")"
   ]
  },
  {
   "cell_type": "markdown",
   "id": "d2aca3ed-0088-4b4f-ab27-2b43f85bdadb",
   "metadata": {},
   "source": [
    "### 51)How Do You Traverse Through a Dictionary Object in Python? \n"
   ]
  },
  {
   "cell_type": "code",
   "execution_count": 10,
   "id": "ef064cb0-b6d8-4871-8d27-86ea9e19e489",
   "metadata": {},
   "outputs": [
    {
     "data": {
      "text/plain": [
       "dict_values(['John', 25, 'New York'])"
      ]
     },
     "execution_count": 10,
     "metadata": {},
     "output_type": "execute_result"
    }
   ],
   "source": [
    "my_dict = {'name': 'John', 'age': 25, 'city': 'New York'}\n",
    "\n",
    "my_dict.keys()\n",
    "\n",
    "my_dict.values()\n",
    "\"\"\"\n",
    "Traversing a dictionary in Python involves iterating over its key-value pairs. \n",
    "Using a for loop\n",
    "Using the keys() method\n",
    "Using the values() method\n",
    "Using the items() method with unpacking\n",
    "\"\"\""
   ]
  },
  {
   "cell_type": "markdown",
   "id": "5f3f0c29-3b5b-4fa3-91a6-ef28550712c5",
   "metadata": {},
   "source": [
    "### 52)How Do You Check the Presence of a Key in A Dictionary? \n"
   ]
  },
  {
   "cell_type": "code",
   "execution_count": 11,
   "id": "24732790-d9c8-4767-8fb0-5fc15ae698d2",
   "metadata": {},
   "outputs": [
    {
     "data": {
      "text/plain": [
       "dict_keys(['name', 'age', 'city'])"
      ]
     },
     "execution_count": 11,
     "metadata": {},
     "output_type": "execute_result"
    }
   ],
   "source": [
    "my_dict = {'name': 'John', 'age': 25, 'city': 'New York'}\n",
    "\n",
    "my_dict.keys()"
   ]
  },
  {
   "cell_type": "markdown",
   "id": "8f34ed06-d84f-43eb-bf79-70640a6ad289",
   "metadata": {},
   "source": [
    "### 53)Write a Python script to print a dictionary where the keys are numbers between 1 and 15. \n"
   ]
  },
  {
   "cell_type": "code",
   "execution_count": 12,
   "id": "a7e03357-aa75-45e5-b953-844093a810f8",
   "metadata": {},
   "outputs": [
    {
     "name": "stdout",
     "output_type": "stream",
     "text": [
      "{1: 1, 2: 2, 3: 3, 4: 4, 5: 5, 6: 6, 7: 7, 8: 8, 9: 9, 10: 10, 11: 11, 12: 12, 13: 13, 14: 14, 15: 15}\n"
     ]
    }
   ],
   "source": [
    "my_dict = {i: i for i in range(1, 16)}\n",
    "\n",
    "print(my_dict)\n"
   ]
  },
  {
   "cell_type": "markdown",
   "id": "6babe3fb-3c27-4f10-b586-e68dd48198b0",
   "metadata": {},
   "source": [
    "### 54)Write a Python program to check multiple keys exists in a dictionary"
   ]
  },
  {
   "cell_type": "code",
   "execution_count": 13,
   "id": "eb0e5d1f-becb-4cbb-8b1f-9087ea43dc66",
   "metadata": {},
   "outputs": [
    {
     "name": "stdout",
     "output_type": "stream",
     "text": [
      "All keys exist in the dictionary\n"
     ]
    }
   ],
   "source": [
    "def check_keys_exist(dictionary, keys):\n",
    "    return all(key in dictionary for key in keys)\n",
    "\n",
    "my_dict = {'name': 'John', 'age': 25, 'city': 'New York'}\n",
    "\n",
    "keys_to_check = ['name', 'age']  \n",
    "\n",
    "if check_keys_exist(my_dict, keys_to_check):\n",
    "    print(\"All keys exist in the dictionary\")\n",
    "else:\n",
    "    print(\"Some keys are missing\")\n"
   ]
  },
  {
   "cell_type": "markdown",
   "id": "a7f554e5-3f27-4be2-92e1-20d047df1f89",
   "metadata": {},
   "source": [
    "### 55)Write a Python script to merge two Python dictionaries "
   ]
  },
  {
   "cell_type": "code",
   "execution_count": 24,
   "id": "d7f169c6-d6ed-4fb1-b5e3-1d09f7654b07",
   "metadata": {},
   "outputs": [
    {
     "name": "stdout",
     "output_type": "stream",
     "text": [
      "{'name': 'John', 'age': 25, 'city': 'New York', 'height': 157, 'weight': 78, 'education': 'b.com'}\n"
     ]
    }
   ],
   "source": [
    "\n",
    "my_dict = {'name': 'John', 'age': 25, 'city': 'New York'}\n",
    "my_dict1 = {'height':157, 'weight': 78, 'education': 'b.com'}\n",
    "my_dict.update(my_dict1)\n",
    "\n",
    "print(my_dict)"
   ]
  },
  {
   "cell_type": "markdown",
   "id": "6775c05d-2561-4c0b-886f-aa4df882637c",
   "metadata": {},
   "source": [
    "### 56)Write a Python program to map two lists into a dictionary "
   ]
  },
  {
   "cell_type": "code",
   "execution_count": 25,
   "id": "bc16eb4e-636a-46bd-a312-ff783f34ec40",
   "metadata": {},
   "outputs": [
    {
     "name": "stdout",
     "output_type": "stream",
     "text": [
      "{'a': 400, 'b': 400, 'c': 400, 'd': 300}\n"
     ]
    }
   ],
   "source": [
    "def map_lists_to_dict(keys, values):\n",
    "  \"Maps two lists into a dictionary\"\n",
    "\n",
    "  if len(keys) != len(values):\n",
    "    raise ValueError(\"Lists must have the same length.\")\n",
    "\n",
    "  return dict(zip(keys, values))\n",
    "\n",
    "\n",
    "keys = ['a', 'b', 'c', 'd']\n",
    "values = [400, 400, 400, 300]\n",
    "\n",
    "dictionary = map_lists_to_dict(keys, values)\n",
    "print(dictionary) "
   ]
  },
  {
   "cell_type": "markdown",
   "id": "b3f23fe9-866d-4705-945b-35af0908409a",
   "metadata": {},
   "source": [
    "### 57)Write a Python program to find the highest 3 values in a dictionary"
   ]
  },
  {
   "cell_type": "code",
   "execution_count": 33,
   "id": "fd01dcb0-e54e-4e96-8e99-0dcfea8e0cd5",
   "metadata": {},
   "outputs": [
    {
     "data": {
      "text/plain": [
       "[800, 700, 600]"
      ]
     },
     "execution_count": 33,
     "metadata": {},
     "output_type": "execute_result"
    }
   ],
   "source": [
    "dict={'a': 500, 'b': 600, 'c': 700, 'd': 300, 'e': 100, 'f': 200, 'g': 800}\n",
    "sorted(dict.values(), reverse=True)[:3]"
   ]
  },
  {
   "cell_type": "markdown",
   "id": "c463e216-3132-40e6-87c8-1d833f158f38",
   "metadata": {},
   "source": [
    "### (58)Write a Python program to combine values in python list of dictionaries.\n",
    "\"\"\"\n",
    "Sample data: [{'item': 'item1', 'amount': 400}, {'item': 'item2', 'amount':\n",
    "300}, o {'item': 'item1', 'amount': 750}]\n",
    "Expected Output:\n",
    "• Counter ({'item1': 1150, 'item2': 300})\n",
    "\"\"\""
   ]
  },
  {
   "cell_type": "code",
   "execution_count": 34,
   "id": "a9651675-da05-4bb9-b3fb-04074aa80a61",
   "metadata": {},
   "outputs": [
    {
     "name": "stdout",
     "output_type": "stream",
     "text": [
      "Counter({'item1': 1150, 'item2': 300})\n"
     ]
    }
   ],
   "source": [
    "from collections import Counter\n",
    "\n",
    "def combine_values(dicts):\n",
    "  \"Combines values in a list of dictionaries based on the 'item' key.\"\n",
    "\n",
    "  combined_dict = Counter()\n",
    "  for d in dicts:\n",
    "    combined_dict[d['item']] += d['amount']\n",
    "  return combined_dict\n",
    "\n",
    "# Example usage:\n",
    "data = [{'item': 'item1', 'amount': 400}, {'item': 'item2', 'amount': 300}, {'item': 'item1', 'amount': 750}]\n",
    "combined_data = combine_values(data)\n",
    "print(combined_data)"
   ]
  },
  {
   "cell_type": "markdown",
   "id": "ee00aaa8-36a5-476f-9ca8-7aa52a79007f",
   "metadata": {},
   "source": [
    "### 59)Write a Python program to create a dictionary from a string. Note: Track the count of the letters from the string. "
   ]
  },
  {
   "cell_type": "code",
   "execution_count": 35,
   "id": "5692f3bc-510a-4aff-950d-83e08cdb6255",
   "metadata": {},
   "outputs": [
    {
     "name": "stdout",
     "output_type": "stream",
     "text": [
      "{'h': 1, 'e': 1, 'l': 3, 'o': 2, 'w': 1, 'r': 1, 'd': 1}\n"
     ]
    }
   ],
   "source": [
    "def create_letter_count_dictionary(string):\n",
    "  \"Creates a dictionary where the keys are letters from the string and the values are their counts.\"\n",
    "\n",
    "  letter_count = {}\n",
    "  for char in string:\n",
    "    if char.isalpha():\n",
    "      letter_count[char] = letter_count.get(char, 0) + 1\n",
    "  return letter_count\n",
    "\n",
    "\n",
    "string = \"hello world\"\n",
    "letter_count_dict = create_letter_count_dictionary(string)\n",
    "print(letter_count_dict)"
   ]
  },
  {
   "cell_type": "markdown",
   "id": "7cdcb58b-1ba3-4e39-bde7-dfb898a6e3f3",
   "metadata": {},
   "source": [
    "### (60)"
   ]
  },
  {
   "cell_type": "code",
   "execution_count": 36,
   "id": "e04e6a7f-7f70-4726-9a70-5ce149220c7c",
   "metadata": {},
   "outputs": [
    {
     "name": "stdout",
     "output_type": "stream",
     "text": [
      "{'w': 1, '3': 1, 'r': 2, 'e': 2, 's': 1, 'o': 1, 'u': 1, 'c': 1}\n"
     ]
    }
   ],
   "source": [
    "def count_characters(string):\n",
    "  \"Counts the occurrences of each character in a string.\"\n",
    "\n",
    "  char_count = {}\n",
    "  for char in string:\n",
    "    char_count[char] = char_count.get(char, 0) + 1\n",
    "  return char_count\n",
    "\n",
    "string = \"w3resource\"\n",
    "character_counts = count_characters(string)\n",
    "print(character_counts)"
   ]
  },
  {
   "cell_type": "markdown",
   "id": "99181ff4-76c0-4b89-ad17-9a4fbdaff5a0",
   "metadata": {},
   "source": [
    "### 61)Write a Python function to calculate the factorial of a number (a nonnegative integer) "
   ]
  },
  {
   "cell_type": "code",
   "execution_count": 53,
   "id": "659344d8-9acf-4fab-94fc-fbcc90ca8684",
   "metadata": {},
   "outputs": [
    {
     "name": "stdout",
     "output_type": "stream",
     "text": [
      "1\n"
     ]
    },
    {
     "data": {
      "text/plain": [
       "3628800"
      ]
     },
     "execution_count": 53,
     "metadata": {},
     "output_type": "execute_result"
    }
   ],
   "source": [
    "def fat_num(a):\n",
    "    if a < 0:\n",
    "        raise ValueError(\"Factorial is not defined for negative numbers\")\n",
    "    fat = 1\n",
    "    for i in range(1,a+1):\n",
    "        fat *= i\n",
    "    return fat\n",
    "print(fat) \n",
    "fat_num(10)"
   ]
  },
  {
   "cell_type": "markdown",
   "id": "50450669-b322-4585-bb5f-e106dc75a861",
   "metadata": {},
   "source": [
    "### 62)Write a Python function to check whether a number is in a given range \n"
   ]
  },
  {
   "cell_type": "code",
   "execution_count": 57,
   "id": "a353c679-e253-4ad3-beda-008d0eadf3b5",
   "metadata": {},
   "outputs": [
    {
     "name": "stdout",
     "output_type": "stream",
     "text": [
      "98 in range\n",
      "121 not in range\n"
     ]
    }
   ],
   "source": [
    "def check(a):\n",
    "    if a in range(1,101):\n",
    "        print(a, \"in range\")\n",
    "    else:\n",
    "        print(a, \"not in range\")\n",
    "\n",
    "check(98)\n",
    "check(121)"
   ]
  },
  {
   "cell_type": "markdown",
   "id": "33cd3667-1a78-4c61-8546-8f3c929dc2a5",
   "metadata": {},
   "source": [
    "### 63)Write a Python function to check whether a number is perfect or not. "
   ]
  },
  {
   "cell_type": "code",
   "execution_count": 65,
   "id": "201fcdec-81d1-41c3-ab99-2c43bd4a86f5",
   "metadata": {},
   "outputs": [
    {
     "name": "stdout",
     "output_type": "stream",
     "text": [
      "10 not perfect number\n"
     ]
    }
   ],
   "source": [
    "def perfnum(a):\n",
    "    sum=0\n",
    "    if a <= 0:\n",
    "        return False\n",
    "    for i in range(1,a):\n",
    "        if a % i == 0:\n",
    "            sum += i\n",
    "    if a==sum:\n",
    "        print(a, \"is perfect number\")\n",
    "    else:\n",
    "        print(a, \"not perfect number\")\n",
    "\n",
    "perfnum(10)\n",
    "    "
   ]
  },
  {
   "cell_type": "markdown",
   "id": "3c39ae69-d961-47b7-86a6-b25b83c56de5",
   "metadata": {},
   "source": [
    "### 64)Write a Python function that checks whether a passed string is palindrome or not"
   ]
  },
  {
   "cell_type": "code",
   "execution_count": 82,
   "id": "a004d3a8-90ae-4ac9-8a47-f26846c3dc0f",
   "metadata": {},
   "outputs": [
    {
     "name": "stdout",
     "output_type": "stream",
     "text": [
      "abcba is palindrome\n"
     ]
    }
   ],
   "source": [
    "def palicheck(string):\n",
    "    string1 = ''.join(reversed(string))\n",
    "    if string == string1:\n",
    "        print(string, \"is palindrome\")\n",
    "    else:\n",
    "        print(string, \"is not palindrome\")\n",
    "\n",
    "palicheck(\"abcba\")"
   ]
  },
  {
   "cell_type": "markdown",
   "id": "744d5285-6723-43e6-8e11-fd3014ef69aa",
   "metadata": {},
   "source": [
    "### 65)How Many Basic Types of Functions Are Available in Python? \n"
   ]
  },
  {
   "cell_type": "code",
   "execution_count": 83,
   "id": "4a5a91ed-6b0e-48c5-8798-980d96735008",
   "metadata": {},
   "outputs": [
    {
     "data": {
      "text/plain": [
       "'\\nIn Python, there are two basic types of functions:\\n\\n1. Built-in Functions:\\nThese are functions that are provided by Python itself and are available without needing to define or import them. Some common examples of built-in functions include:\\n\\nprint(): Prints output to the console.\\nlen(): Returns the length of an object.\\ntype(): Returns the type of an object.\\ninput(): Reads input from the user.\\nsum(): Returns the sum of elements in an iterable.\\nmax(): Returns the largest element\\n\\n2. User-defined Functions:\\nThese are functions that you define yourself to perform specific tasks. You can create user-defined functions using the def keyword.\\n'"
      ]
     },
     "execution_count": 83,
     "metadata": {},
     "output_type": "execute_result"
    }
   ],
   "source": [
    "\"\"\"\n",
    "In Python, there are two basic types of functions:\n",
    "\n",
    "1. Built-in Functions:\n",
    "These are functions that are provided by Python itself and are available without needing to define or import them. Some common examples of built-in functions include:\n",
    "\n",
    "print(): Prints output to the console.\n",
    "len(): Returns the length of an object.\n",
    "type(): Returns the type of an object.\n",
    "input(): Reads input from the user.\n",
    "sum(): Returns the sum of elements in an iterable.\n",
    "max(): Returns the largest element\n",
    "\n",
    "2. User-defined Functions:\n",
    "These are functions that you define yourself to perform specific tasks. You can create user-defined functions using the def keyword.\n",
    "\"\"\"\n"
   ]
  },
  {
   "cell_type": "markdown",
   "id": "15d29365-7240-44ce-861d-c40c24d35c1a",
   "metadata": {},
   "source": [
    "### 66)How can you pick a random item from a list or tuple? "
   ]
  },
  {
   "cell_type": "markdown",
   "id": "32167a7e-3f0b-4bfa-8f90-edce52258fdd",
   "metadata": {},
   "source": [
    "##### We can use Python's random module to pick a random item from a list or tuple. The function random.choice() is specifically designed for this purpose."
   ]
  },
  {
   "cell_type": "markdown",
   "id": "f6189a3b-eb25-46e6-bc4b-153e94097962",
   "metadata": {},
   "source": [
    "### 67)How can you pick a random item from a range?"
   ]
  },
  {
   "cell_type": "markdown",
   "id": "a6ea8bc8-ef20-4628-8497-86644ffaa727",
   "metadata": {},
   "source": [
    "##### To pick a random item from a range in Python, you can use the random.choice() or random.randint() functions from the random module, depending on how you define the range. Using random.choice() with range():"
   ]
  },
  {
   "cell_type": "markdown",
   "id": "6a96fac9-bcc1-4351-8392-ae50cdbdd6c4",
   "metadata": {},
   "source": [
    "### 68)How can you get a random number in python? "
   ]
  },
  {
   "cell_type": "markdown",
   "id": "6b07ff2e-f660-4190-882d-87c00e1fd47e",
   "metadata": {},
   "source": [
    "* Use random.randint() for random integers.\n",
    "* Use random.random() or random.uniform() for random floating-point numbers.\n",
    "* Use random.randrange() or random.choice() for picking random values from ranges."
   ]
  },
  {
   "cell_type": "markdown",
   "id": "be35ce8f-9475-4eae-bb8e-4e7b44e83be0",
   "metadata": {},
   "source": [
    "### 69)How will you set the starting value in generating random numbers? "
   ]
  },
  {
   "cell_type": "markdown",
   "id": "9fae754f-6a11-404e-b614-83d64264f9a7",
   "metadata": {},
   "source": [
    "##### To set a starting value (or seed) for generating random numbers in Python, you can use the random.seed() function from the random module. By setting a seed, you make the random number generation deterministic. This means that every time you run the code with the same seed, you'll get the same sequence of random numbers."
   ]
  },
  {
   "cell_type": "markdown",
   "id": "51aae0c9-89b2-4cf0-bc2e-e50d3115e8ec",
   "metadata": {},
   "source": [
    "### 70) How will you randomize the items of a list in place? "
   ]
  },
  {
   "cell_type": "markdown",
   "id": "3740105b-9b68-4791-b15e-cd40b4eb155e",
   "metadata": {},
   "source": [
    "##### To randomize (or shuffle) the items of a list in place in Python, you can use the random.shuffle() function from the random module. This function modifies the original list by randomly rearranging its elements."
   ]
  },
  {
   "cell_type": "markdown",
   "id": "4af36450-18da-411b-9cc0-b6f8725577e2",
   "metadata": {},
   "source": [
    "### 71)What is File function in python? What are keywords to create and write file. \n"
   ]
  },
  {
   "cell_type": "markdown",
   "id": "6f679cfb-5da7-450a-96a6-e576f5523e51",
   "metadata": {},
   "source": [
    "In Python, file functions are used to perform operations like **creating**, **reading**, **writing**, and **manipulating files**. Python provides several built-in functions and methods for handling files.\n",
    "\n",
    "### Basic File Operations:\n",
    "1. **Creating/Open a File**: Use the `open()` function to create or open a file.\n",
    "2. **Reading a File**: You can read the contents of a file using methods like `read()`, `readline()`, or `readlines()`.\n",
    "3. **Writing to a File**: Write data to a file using methods like `write()` or `writelines()`.\n",
    "4. **Closing a File**: After performing operations, you should close the file using `close()`.\n",
    "\n",
    "### `open()` Function:\n",
    "The `open()` function is used to open a file in Python. It returns a file object, which is used to read, write, or manipulate the file.\n",
    "\n",
    "### Syntax:\n",
    "```python\n",
    "file_object = open('filename', 'mode')\n",
    "```\n",
    "- `'filename'`: Name of the file (with path if required).\n",
    "- `'mode'`: Mode in which the file is opened (read, write, append, etc.).\n",
    "\n",
    "### File Opening Modes:\n",
    "- `'r'`: Read mode (default) – Opens the file for reading.\n",
    "- `'w'`: Write mode – Creates a new file for writing (overwrites if the file exists).\n",
    "- `'a'`: Append mode – Opens the file for appending (adds data to the end of the file).\n",
    "- `'x'`: Exclusive creation – Creates a new file, but fails if the file already exists.\n",
    "- `'b'`: Binary mode – Used for binary files (e.g., images or PDFs).\n",
    "- `'t'`: Text mode (default) – Used for text files.\n",
    "\n",
    "### Writing to a File:\n",
    "To write data to a file, you can use the following keywords/methods:\n",
    "\n",
    "1. **`write()`**: Writes a string to the file.\n",
    "2. **`writelines()`**: Writes a list of strings to the file.\n",
    "\n",
    "### Example of Creating and Writing to a File:\n",
    "```python\n",
    "# Creating and writing to a file\n",
    "file = open(\"example.txt\", \"w\")  # Open file in write mode (creates if not exists)\n",
    "file.write(\"Hello, world!\\n\")  # Write a string to the file\n",
    "file.write(\"This is a second line.\\n\")\n",
    "file.close()  # Always close the file when done\n",
    "```\n",
    "\n",
    "### Example of Appending Data to a File:\n",
    "```python\n",
    "file = open(\"example.txt\", \"a\")  # Open file in append mode\n",
    "file.write(\"This line will be appended.\\n\")\n",
    "file.close()\n",
    "```\n",
    "\n",
    "### Keywords to Create and Write a File:\n",
    "- `open()`: Opens the file and can create a new one.\n",
    "- `write()`: Writes a string to the file.\n",
    "- `writelines()`: Writes multiple lines (a list of strings) to the file.\n",
    "- `close()`: Closes the file after writing.\n",
    "\n",
    "### Reading from a File Example:\n",
    "To read from a file after writing, you can use the following:\n",
    "\n",
    "```python\n",
    "file = open(\"example.txt\", \"r\")  # Open file in read mode\n",
    "content = file.read()  # Read the entire file content\n",
    "print(content)\n",
    "file.close()\n",
    "```\n",
    "\n",
    "By using the `open()` function with the correct mode (`'w'`, `'a'`, `'x'`), you can create or write to files in Python."
   ]
  },
  {
   "cell_type": "markdown",
   "id": "7cf27ba2-00fa-408c-bb63-a1cd5977a4c7",
   "metadata": {},
   "source": [
    "### 72)Write a Python program to read an entire text file. \n"
   ]
  },
  {
   "cell_type": "code",
   "execution_count": 10,
   "id": "bd116c1b-fb3e-40d3-a50f-c10c60787302",
   "metadata": {},
   "outputs": [
    {
     "name": "stdout",
     "output_type": "stream",
     "text": [
      "my name is khanThis is the appended text.\n",
      "This is the appended text.\n",
      "This is the new text that will be appended.\n",
      "123456789\n",
      "987654321\n",
      "my name is khanThis is the appended text.\n",
      "This is the appended text.\n",
      "This is the new text that will be appended.\n",
      "\n"
     ]
    }
   ],
   "source": [
    "# File path\n",
    "file_path = \"C:/Users/This Pc/OneDrive/Desktop/abc.txt\"  # Replace with your file path\n",
    "\n",
    "# Open the file in read mode and read the content\n",
    "with open(file_path, 'r') as file:\n",
    "    content = file.read()  # Read the entire content of the file\n",
    "\n",
    "# Print the content\n",
    "print(content)\n"
   ]
  },
  {
   "cell_type": "markdown",
   "id": "bba65068-c4d8-4003-bf77-e9408be56527",
   "metadata": {},
   "source": [
    "### 73)Write a Python program to append text to a file and display the text. "
   ]
  },
  {
   "cell_type": "code",
   "execution_count": 35,
   "id": "b338e614-0a40-4216-bd1c-4913f0805eb6",
   "metadata": {},
   "outputs": [
    {
     "name": "stdout",
     "output_type": "stream",
     "text": [
      "my name is khanThis is the appended text.\n",
      "This is the appended text.\n",
      "This is the new text that will be appended.\n",
      "123456789\n",
      "987654321\n",
      "my name is khanThis is the appended text.\n",
      "This is the appended text.\n",
      "This is the new text that will be appended.\n",
      "This is the new text that will be appended.\n",
      "abcdefghijklmnopqrstuvwxyz\n",
      "123456789\n",
      "987654321\n",
      "my name is khanThis is the appended text.\n",
      "This is the appended text.\n",
      "This is the new text that will be appended.\n",
      "This is the new text that will be appended.\n",
      "abcdefghijklmnopqrstuvwxyz11111111111111111111111111111111111111111111\n",
      "\n"
     ]
    }
   ],
   "source": [
    "# Define the file path\n",
    "file_path = \"C:/Users/This Pc/OneDrive/Desktop/abc.txt\"  # Replace with your file path\n",
    "\n",
    "# Text to append\n",
    "text_to_append = \"11111111111111111111111111111111111111111111\"\n",
    "\n",
    "# Open the file in append mode and write the text\n",
    "with open(file_path, 'a') as file:\n",
    "    file.write(text_to_append + '\\n')  # Appends the text with a newline\n",
    "\n",
    "# Read the file to display the updated content\n",
    "with open(file_path, 'r') as file:\n",
    "    content = file.read()  # Reads the entire content of the file\n",
    "\n",
    "# Display the content\n",
    "print(content)\n"
   ]
  },
  {
   "cell_type": "markdown",
   "id": "b03dba06-9141-4744-9fd3-61de4de86d9a",
   "metadata": {},
   "source": [
    "### 74)Write a Python program to read first n lines of a file. \n"
   ]
  },
  {
   "cell_type": "code",
   "execution_count": 12,
   "id": "e277c243-81a0-4347-945f-7637ea038afd",
   "metadata": {},
   "outputs": [
    {
     "name": "stdout",
     "output_type": "stream",
     "text": [
      "my name is khanThis is the appended text.\n",
      "This is the appended text.\n",
      "This is the new text that will be appended.\n"
     ]
    }
   ],
   "source": [
    "file_path = \"C:/Users/This Pc/OneDrive/Desktop/abc.txt\" \n",
    "n = 3  \n",
    "\n",
    "with open(file_path, 'r') as file:\n",
    "    for i in range(n):\n",
    "        line = file.readline()\n",
    "        if not line:  \n",
    "            break\n",
    "        print(line, end='')  \n"
   ]
  },
  {
   "cell_type": "markdown",
   "id": "c81fcfef-109f-4bb2-80a9-8451c014cd24",
   "metadata": {},
   "source": [
    "### 75)Write a Python program to read last n lines of a file. "
   ]
  },
  {
   "cell_type": "code",
   "execution_count": 13,
   "id": "8c1d4259-da88-4c9b-9b4f-56a81d1d15d4",
   "metadata": {},
   "outputs": [
    {
     "name": "stdout",
     "output_type": "stream",
     "text": [
      "This is the appended text.\n",
      "This is the new text that will be appended.\n",
      "This is the new text that will be appended.\n"
     ]
    }
   ],
   "source": [
    "file_path = \"C:/Users/This Pc/OneDrive/Desktop/abc.txt\"  \n",
    "n = 3  \n",
    "\n",
    "with open(file_path, 'r') as file:\n",
    "    lines = file.readlines()\n",
    "    last_n_lines = lines[-n:]\n",
    "    \n",
    "    for line in last_n_lines:\n",
    "        print(line, end='')\n"
   ]
  },
  {
   "cell_type": "markdown",
   "id": "a4d676e9-28fa-4679-b06e-2a1bc5da7d3f",
   "metadata": {},
   "source": [
    "### 76)Write a Python program to read a file line by line and store it into a list "
   ]
  },
  {
   "cell_type": "code",
   "execution_count": 9,
   "id": "948aeca3-b661-4435-bfda-e2b42c07bb9d",
   "metadata": {},
   "outputs": [
    {
     "name": "stdout",
     "output_type": "stream",
     "text": [
      "['my name is khanThis is the appended text.', 'This is the appended text.', 'This is the new text that will be appended.', '123456789', '987654321', 'my name is khanThis is the appended text.', 'This is the appended text.', 'This is the new text that will be appended.']\n"
     ]
    }
   ],
   "source": [
    "file_path = \"C:/Users/This Pc/OneDrive/Desktop/abc.txt\"  # Replace with your file path\n",
    "\n",
    "# Initialize an empty list to store the lines\n",
    "lines_list = []\n",
    "\n",
    "# Open the file in read mode\n",
    "with open(file_path, 'r') as file:\n",
    "    # Read each line one by one and append to the list\n",
    "    for line in file:\n",
    "        lines_list.append(line.strip())  # Use .strip() to remove newline characters\n",
    "\n",
    "# Print the list to verify\n",
    "print(lines_list)\n"
   ]
  },
  {
   "cell_type": "markdown",
   "id": "95dbc483-ce3d-4497-ae06-f512b3580dde",
   "metadata": {},
   "source": [
    "### 77)Write a Python program to read a file line by line store it into a variable. "
   ]
  },
  {
   "cell_type": "code",
   "execution_count": 20,
   "id": "cdcad6ea-13cb-4d36-bd80-7c1c5df7c7b5",
   "metadata": {},
   "outputs": [
    {
     "name": "stdout",
     "output_type": "stream",
     "text": [
      "['my name is khanThis is the appended text.', 'This is the appended text.', 'This is the new text that will be appended.', '123456789', '987654321', 'my name is khanThis is the appended text.', 'This is the appended text.', 'This is the new text that will be appended.', 'This is the new text that will be appended.']\n"
     ]
    }
   ],
   "source": [
    "file_path = \"C:/Users/This Pc/OneDrive/Desktop/abc.txt\"\n",
    "\n",
    "file1 = []\n",
    "\n",
    "with open(file_path, 'r') as file:\n",
    "    for line in file:\n",
    "        file1.append(line.strip())\n",
    "\n",
    "print(file1)\n"
   ]
  },
  {
   "cell_type": "markdown",
   "id": "149150fa-bc1f-4752-bbf5-0e195f78beff",
   "metadata": {},
   "source": [
    "### 78)Write a python program to find the longest words. "
   ]
  },
  {
   "cell_type": "code",
   "execution_count": 23,
   "id": "7b259bbb-7b89-4894-b494-dac5cdd10112",
   "metadata": {},
   "outputs": [
    {
     "name": "stdout",
     "output_type": "stream",
     "text": [
      "Longest word(s): ['abcdefghijklmnopqrstuvwxyz']\n",
      "Length of the longest word(s): 26\n"
     ]
    }
   ],
   "source": [
    "# File path\n",
    "file_path = \"C:/Users/This Pc/OneDrive/Desktop/abc.txt\"  # Replace with your file path\n",
    "\n",
    "# Initialize a variable to store the longest word(s)\n",
    "longest_words = []\n",
    "max_length = 0\n",
    "\n",
    "# Open the file in read mode\n",
    "with open(file_path, 'r') as file:\n",
    "    # Read each line from the file\n",
    "    for line in file:\n",
    "        # Split the line into words\n",
    "        words = line.split()\n",
    "        \n",
    "        # Check each word\n",
    "        for word in words:\n",
    "            # If the word is longer than the current max_length, update the longest_words list\n",
    "            if len(word) > max_length:\n",
    "                longest_words = [word]\n",
    "                max_length = len(word)\n",
    "            # If the word has the same length as the current longest word, add it to the list\n",
    "            elif len(word) == max_length:\n",
    "                longest_words.append(word)\n",
    "\n",
    "# Print the longest word(s)\n",
    "print(\"Longest word(s):\", longest_words)\n",
    "print(\"Length of the longest word(s):\", max_length)\n"
   ]
  },
  {
   "cell_type": "markdown",
   "id": "3e5a90d5-4d7e-49bc-8ccb-20c712f8412f",
   "metadata": {},
   "source": [
    "### 79)Write a Python program to count the number of lines in a text file. "
   ]
  },
  {
   "cell_type": "code",
   "execution_count": 31,
   "id": "62c83811-9da6-4713-81f5-b3d3f25ff9ad",
   "metadata": {},
   "outputs": [
    {
     "name": "stdout",
     "output_type": "stream",
     "text": [
      "17\n"
     ]
    }
   ],
   "source": [
    "file_path = \"C:/Users/This Pc/OneDrive/Desktop/abc.txt\"\n",
    "file_line = []\n",
    "\n",
    "with open(file_path, 'r') as file:\n",
    "    for line in file:\n",
    "        file_line.append(line.strip())\n",
    "\n",
    "print(len(file_line))\n",
    "    "
   ]
  },
  {
   "cell_type": "markdown",
   "id": "7a842347-167a-4d9e-932c-748baec79cd8",
   "metadata": {},
   "source": [
    "### 80)Write a Python program to count the frequency of words in a file. "
   ]
  },
  {
   "cell_type": "code",
   "execution_count": 32,
   "id": "ec2dc44d-f473-448a-8682-dbe5ff63ff20",
   "metadata": {},
   "outputs": [
    {
     "name": "stdout",
     "output_type": "stream",
     "text": [
      "my: 3\n",
      "name: 3\n",
      "is: 14\n",
      "khanthis: 3\n",
      "the: 11\n",
      "appended: 11\n",
      "text: 11\n",
      "this: 8\n",
      "new: 5\n",
      "that: 5\n",
      "will: 5\n",
      "be: 5\n",
      "123456789: 2\n",
      "987654321: 2\n",
      "abcdefghijklmnopqrstuvwxyz: 2\n"
     ]
    }
   ],
   "source": [
    "file_path = \"C:/Users/This Pc/OneDrive/Desktop/abc.txt\"  # Replace with your file path\n",
    "\n",
    "# Initialize an empty dictionary to store word frequencies\n",
    "word_count = {}\n",
    "\n",
    "# Open the file in read mode\n",
    "with open(file_path, 'r') as file:\n",
    "    # Read each line from the file\n",
    "    for line in file:\n",
    "        # Split the line into words (assuming words are separated by whitespace)\n",
    "        words = line.split()\n",
    "        \n",
    "        # Process each word\n",
    "        for word in words:\n",
    "            # Convert word to lowercase to count all variations of the same word\n",
    "            word = word.lower()\n",
    "            \n",
    "            # Remove punctuation from the word (manual removal here)\n",
    "            word = word.strip(\".,!?()[]{};:'\\\"\")\n",
    "            \n",
    "            # Count the word frequency\n",
    "            if word in word_count:\n",
    "                word_count[word] += 1\n",
    "            else:\n",
    "                word_count[word] = 1\n",
    "\n",
    "# Print the word frequencies\n",
    "for word, count in word_count.items():\n",
    "    print(f\"{word}: {count}\")\n"
   ]
  },
  {
   "cell_type": "markdown",
   "id": "8b5a3efb-11c8-4fdb-b67b-84f0bbf57db7",
   "metadata": {},
   "source": [
    "### 81)Write a Python program to write a list to a file. \n"
   ]
  },
  {
   "cell_type": "code",
   "execution_count": 34,
   "id": "27653543-7e65-44e2-b0e9-351f9989fabb",
   "metadata": {},
   "outputs": [
    {
     "name": "stdout",
     "output_type": "stream",
     "text": [
      "List has been written to C:/Users/This Pc/OneDrive/Desktop/output.txt.\n"
     ]
    }
   ],
   "source": [
    "# Sample list to write to the file\n",
    "my_list = ['apple', 'banana', 'cherry', 'date', 'elderberry']\n",
    "\n",
    "# File path where you want to write the list\n",
    "file_path = \"C:/Users/This Pc/OneDrive/Desktop/output.txt\"  # Replace with your file path\n",
    "\n",
    "# Open the file in write mode\n",
    "with open(file_path, 'w') as file:\n",
    "    # Write each item from the list to the file, one per line\n",
    "    for item in my_list:\n",
    "        file.write(item + '\\n')  # Add a newline character after each item\n",
    "\n",
    "print(f\"List has been written to {file_path}.\")\n"
   ]
  },
  {
   "cell_type": "markdown",
   "id": "f8006718-8cee-4283-87da-752e7812272d",
   "metadata": {},
   "source": [
    "### 82)Write a Python program to copy the contents of a file to another file. "
   ]
  },
  {
   "cell_type": "code",
   "execution_count": 38,
   "id": "7b3b32f5-b138-4a8a-a77c-f604044f3209",
   "metadata": {},
   "outputs": [
    {
     "name": "stdout",
     "output_type": "stream",
     "text": [
      "Contents copied from C:/Users/This Pc/OneDrive/Desktop/New Text Document.txt to C:/Users/This Pc/OneDrive/Desktop/abc.txt.\n"
     ]
    }
   ],
   "source": [
    "# Source file path (the file you want to copy from)\n",
    "source_file_path = \"C:/Users/This Pc/OneDrive/Desktop/New Text Document.txt\"\n",
    "\n",
    "# Destination file path (the file you want to copy to)\n",
    "destination_file_path = \"C:/Users/This Pc/OneDrive/Desktop/abc.txt\"  # Change this path as needed\n",
    "\n",
    "# Open the source file in read mode and the destination file in write mode\n",
    "with open(source_file_path, 'r') as source_file:\n",
    "    with open(destination_file_path, 'w') as destination_file:\n",
    "        # Read the contents of the source file\n",
    "        content = source_file.read()\n",
    "        \n",
    "        # Write the content to the destination file\n",
    "        destination_file.write(content)\n",
    "\n",
    "print(f\"Contents copied from {source_file_path} to {destination_file_path}.\")\n"
   ]
  },
  {
   "cell_type": "markdown",
   "id": "968ef85f-bcae-4133-8f1c-44b66b558c7e",
   "metadata": {},
   "source": [
    "### 83)Explain Exception handling? What is an Error in Python? "
   ]
  },
  {
   "cell_type": "markdown",
   "id": "dc8bf4d6-4389-452e-9f49-73d58d1275b7",
   "metadata": {},
   "source": [
    "#### Exception Handling in Python:\n",
    "* Exception handling is a mechanism in Python to handle runtime errors gracefully without crashing the program. It allows the programmer to anticipate and manage errors using try, except, else, and finally blocks.\n",
    "\n",
    "* try: Code that might raise an exception is placed here.\n",
    "* except: Handles the error if it occurs in the try block.\n",
    "* else: Executes if no exception occurs in the try block.\n",
    "* finally: Executes no matter what, whether an exception occurred or not."
   ]
  },
  {
   "cell_type": "markdown",
   "id": "ac633d57-64e3-4bb3-bcfb-770d3440d34b",
   "metadata": {},
   "source": [
    "#### What is an Error in Python?\n",
    "* An error in Python refers to any issue that causes a program to stop running. Python errors are broadly classified into two categories:\n",
    "\n",
    "* Syntax Errors: Errors in the structure of the code (e.g., missing colons, wrong indentation).\n",
    "* Exceptions: Errors that occur during execution (e.g., ZeroDivisionError, FileNotFoundError), which can be handled using exception handling."
   ]
  },
  {
   "cell_type": "markdown",
   "id": "0494bccd-9f23-45e9-abd9-7bc11b2c8e09",
   "metadata": {},
   "source": [
    "### 84)How many except statements can a try-except block have? Name Some built-in exception classes: "
   ]
  },
  {
   "cell_type": "markdown",
   "id": "90cf4632-68a4-44d7-ac8e-f034e86de618",
   "metadata": {},
   "source": [
    "#### A `try-except` block can have multiple `except` statements to handle different exceptions.\n",
    "#### There is no limit to the number of `except` statements in a single `try-except` block.\n",
    "\n",
    "#### Some built-in exception classes are:\n",
    "* ArithmeticError\n",
    "* AttributeError\n",
    "* EOFError\n",
    "* FileNotFoundError\n",
    "* IndexError\n",
    "* KeyError\n",
    "* ValueError\n",
    "* ZeroDivisionError\n"
   ]
  },
  {
   "cell_type": "markdown",
   "id": "a59e26cb-0c65-4d9d-86a2-1e9c26a4cfef",
   "metadata": {},
   "source": [
    "### 85)When will the else part of try-except-else be executed? "
   ]
  },
  {
   "cell_type": "markdown",
   "id": "e91304f6-9a60-4cd5-b5be-223c22bdd68e",
   "metadata": {},
   "source": [
    "#### The `else` part of a `try-except-else` block will be executed only if no exception occurs in the `try` block.\n",
    "#### If an exception is raised in the `try` block, the `else` part is skipped, and control moves to the `except` block.\n"
   ]
  },
  {
   "cell_type": "markdown",
   "id": "66cc6664-6001-4d8c-965d-c63376675458",
   "metadata": {},
   "source": [
    "### 86)Can one block of except statements handle multiple exception? "
   ]
  },
  {
   "cell_type": "markdown",
   "id": "a2fa919d-c4ec-4ed2-aedb-49c97a50c604",
   "metadata": {},
   "source": [
    "#### Yes, one `except` block can handle multiple exceptions.\n",
    "#### You can specify multiple exceptions in a single `except` block by providing them as a tuple.\n",
    "\n",
    "#### Example:\n",
    "try:\n",
    "    # Some code that may raise exceptions\n",
    "    num = int(input(\"Enter a number: \"))\n",
    "    result = 10 / num\n",
    "except (ValueError, ZeroDivisionError):\n",
    "    print(\"Handled either ValueError or ZeroDivisionError.\")\n"
   ]
  },
  {
   "cell_type": "markdown",
   "id": "ab219e18-76a5-40ee-b8bf-a2b7ce0b5a2f",
   "metadata": {},
   "source": [
    "### 87)When is the finally block executed? "
   ]
  },
  {
   "cell_type": "markdown",
   "id": "529163e6-4548-46aa-8f10-2487cd2380b1",
   "metadata": {},
   "source": [
    "#### The `finally` block is always executed, regardless of whether an exception occurs or not.\n",
    "#### It runs after the `try`, `except`, and `else` blocks, ensuring that cleanup actions (like closing files) are performed.\n",
    "\n",
    "#### Example:\n",
    "try:\n",
    "    # Code that might raise an exception\n",
    "    num = int(input(\"Enter a number: \"))\n",
    "    result = 10 / num\n",
    "except ZeroDivisionError:\n",
    "    print(\"Cannot divide by zero!\")\n",
    "finally:\n",
    "    print(\"This block is always executed.\")\n"
   ]
  },
  {
   "cell_type": "markdown",
   "id": "b44007ad-25b4-47d9-ad13-fc8d5b9c7042",
   "metadata": {},
   "source": [
    "### 88)What happens when „1‟== 1 is executed? "
   ]
  },
  {
   "cell_type": "markdown",
   "id": "79d77721-ec21-41d0-ae03-8153dfe15206",
   "metadata": {},
   "source": [
    "#### When \"1\" == 1 is executed, the result will be `False`.\n",
    "#### This is because the string `\"1\"` and the integer `1` are of different data types.\n",
    "#### Python does not automatically convert them to the same type for comparison, so it considers them unequal.\n"
   ]
  },
  {
   "cell_type": "markdown",
   "id": "c725575a-9c97-46b7-baa5-30108fc97dcd",
   "metadata": {},
   "source": [
    "### 89)How Do You Handle Exceptions with Try/Except/Finally in Python? Explain with coding snippets. "
   ]
  },
  {
   "cell_type": "markdown",
   "id": "cceba1bc-e618-40a1-823a-7c426740ce77",
   "metadata": {},
   "source": [
    "#### In Python, exceptions are handled using `try`, `except`, and `finally` blocks.\n",
    "#### \n",
    "#### - The `try` block contains code that may potentially raise an exception.\n",
    "#### - The `except` block catches and handles specific exceptions that occur in the `try` block.\n",
    "#### - The `finally` block is always executed, regardless of whether an exception occurred or not, ensuring that cleanup actions are performed.\n"
   ]
  },
  {
   "cell_type": "markdown",
   "id": "f1200bdc-def9-443d-8e12-8d07edf36eb7",
   "metadata": {},
   "source": [
    "### 90)Write python program that user to enter only odd numbers, else will raise an exception. "
   ]
  },
  {
   "cell_type": "code",
   "execution_count": 41,
   "id": "9b57dbae-b603-4659-80aa-c5d6f6854b19",
   "metadata": {},
   "outputs": [
    {
     "name": "stdin",
     "output_type": "stream",
     "text": [
      "Enter an odd number:  88\n"
     ]
    },
    {
     "name": "stdout",
     "output_type": "stream",
     "text": [
      "The number is even. Please enter an odd number.\n"
     ]
    },
    {
     "name": "stdin",
     "output_type": "stream",
     "text": [
      "Enter an odd number:  99\n"
     ]
    },
    {
     "name": "stdout",
     "output_type": "stream",
     "text": [
      "You entered the odd number: 99\n"
     ]
    }
   ],
   "source": [
    "class EvenNumberError(Exception):\n",
    "    \"\"\"Custom exception for even numbers.\"\"\"\n",
    "    pass\n",
    "\n",
    "# Start of the program\n",
    "while True:\n",
    "    try:\n",
    "        # Prompt user for input\n",
    "        num = int(input(\"Enter an odd number: \"))\n",
    "        \n",
    "        # Check if the number is odd\n",
    "        if num % 2 == 0:\n",
    "            raise EvenNumberError(\"The number is even. Please enter an odd number.\")\n",
    "        \n",
    "        # If number is odd, print it and exit the loop\n",
    "        print(f\"You entered the odd number: {num}\")\n",
    "        break\n",
    "        \n",
    "    except ValueError:\n",
    "        print(\"Invalid input. Please enter a valid integer.\")\n",
    "    except EvenNumberError as e:\n",
    "        print(e)\n"
   ]
  },
  {
   "cell_type": "code",
   "execution_count": null,
   "id": "ede3c04e-42a0-414e-832b-323b6f770ea2",
   "metadata": {},
   "outputs": [],
   "source": []
  }
 ],
 "metadata": {
  "kernelspec": {
   "display_name": "Python 3 (ipykernel)",
   "language": "python",
   "name": "python3"
  },
  "language_info": {
   "codemirror_mode": {
    "name": "ipython",
    "version": 3
   },
   "file_extension": ".py",
   "mimetype": "text/x-python",
   "name": "python",
   "nbconvert_exporter": "python",
   "pygments_lexer": "ipython3",
   "version": "3.12.4"
  }
 },
 "nbformat": 4,
 "nbformat_minor": 5
}
